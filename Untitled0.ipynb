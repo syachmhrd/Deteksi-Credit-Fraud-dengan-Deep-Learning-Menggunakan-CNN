{
  "nbformat": 4,
  "nbformat_minor": 0,
  "metadata": {
    "colab": {
      "name": "Untitled0.ipynb",
      "provenance": []
    },
    "kernelspec": {
      "name": "python3",
      "display_name": "Python 3"
    },
    "language_info": {
      "name": "python"
    }
  },
  "cells": [
    {
      "cell_type": "code",
      "metadata": {
        "colab": {
          "base_uri": "https://localhost:8080/"
        },
        "id": "R0oKPCOQAy2r",
        "outputId": "a22e7d48-613f-476a-d6b7-7fc07a528b0c"
      },
      "source": [
        "from collections import Counter\n",
        "from imblearn.over_sampling import SMOTE\n",
        "from sklearn.model_selection import train_test_split\n",
        "import numpy as np\n",
        "import pandas as pd\n",
        "import matplotlib.pyplot as plt\n",
        "import tensorflow as tf\n",
        "import warnings\n",
        "warnings.simplefilter(action='ignore', category=FutureWarning)\n",
        "from sklearn.svm import SVC\n",
        "from imblearn.over_sampling import SMOTE\n",
        "from imblearn.under_sampling import RandomUnderSampler\n",
        "from imblearn.pipeline import Pipeline"
      ],
      "execution_count": null,
      "outputs": [
        {
          "output_type": "stream",
          "text": [
            "/usr/local/lib/python3.7/dist-packages/sklearn/externals/six.py:31: FutureWarning: The module is deprecated in version 0.21 and will be removed in version 0.23 since we've dropped support for Python 2.7. Please rely on the official version of six (https://pypi.org/project/six/).\n",
            "  \"(https://pypi.org/project/six/).\", FutureWarning)\n",
            "/usr/local/lib/python3.7/dist-packages/sklearn/utils/deprecation.py:144: FutureWarning: The sklearn.neighbors.base module is  deprecated in version 0.22 and will be removed in version 0.24. The corresponding classes / functions should instead be imported from sklearn.neighbors. Anything that cannot be imported from sklearn.neighbors is now part of the private API.\n",
            "  warnings.warn(message, FutureWarning)\n"
          ],
          "name": "stderr"
        }
      ]
    },
    {
      "cell_type": "code",
      "metadata": {
        "id": "olOF51DHA2_X"
      },
      "source": [
        "df = pd.read_excel('https://drive.google.com/uc?export=download&id=1WJ7_VuGQh5hGr05je-4rT4YYQMijSxzJ')"
      ],
      "execution_count": null,
      "outputs": []
    },
    {
      "cell_type": "code",
      "metadata": {
        "colab": {
          "base_uri": "https://localhost:8080/",
          "height": 217
        },
        "id": "Ua_MTBBTA-Ni",
        "outputId": "af9f58f5-804b-42b5-b5b5-8cdf429aaf83"
      },
      "source": [
        "df.head()"
      ],
      "execution_count": null,
      "outputs": [
        {
          "output_type": "execute_result",
          "data": {
            "text/html": [
              "<div>\n",
              "<style scoped>\n",
              "    .dataframe tbody tr th:only-of-type {\n",
              "        vertical-align: middle;\n",
              "    }\n",
              "\n",
              "    .dataframe tbody tr th {\n",
              "        vertical-align: top;\n",
              "    }\n",
              "\n",
              "    .dataframe thead th {\n",
              "        text-align: right;\n",
              "    }\n",
              "</style>\n",
              "<table border=\"1\" class=\"dataframe\">\n",
              "  <thead>\n",
              "    <tr style=\"text-align: right;\">\n",
              "      <th></th>\n",
              "      <th>Time</th>\n",
              "      <th>V1</th>\n",
              "      <th>V2</th>\n",
              "      <th>V3</th>\n",
              "      <th>V4</th>\n",
              "      <th>V5</th>\n",
              "      <th>V6</th>\n",
              "      <th>V7</th>\n",
              "      <th>V8</th>\n",
              "      <th>V9</th>\n",
              "      <th>V10</th>\n",
              "      <th>V11</th>\n",
              "      <th>V12</th>\n",
              "      <th>V13</th>\n",
              "      <th>V14</th>\n",
              "      <th>V15</th>\n",
              "      <th>V16</th>\n",
              "      <th>V17</th>\n",
              "      <th>V18</th>\n",
              "      <th>V19</th>\n",
              "      <th>V20</th>\n",
              "      <th>V21</th>\n",
              "      <th>V22</th>\n",
              "      <th>V23</th>\n",
              "      <th>V24</th>\n",
              "      <th>V25</th>\n",
              "      <th>V26</th>\n",
              "      <th>V27</th>\n",
              "      <th>V28</th>\n",
              "      <th>Amount</th>\n",
              "      <th>Class</th>\n",
              "    </tr>\n",
              "  </thead>\n",
              "  <tbody>\n",
              "    <tr>\n",
              "      <th>0</th>\n",
              "      <td>0</td>\n",
              "      <td>-1.359807</td>\n",
              "      <td>-0.072781</td>\n",
              "      <td>2.536347</td>\n",
              "      <td>1.378155</td>\n",
              "      <td>-0.338321</td>\n",
              "      <td>0.462388</td>\n",
              "      <td>0.239599</td>\n",
              "      <td>0.098698</td>\n",
              "      <td>0.363787</td>\n",
              "      <td>0.090794</td>\n",
              "      <td>-0.551600</td>\n",
              "      <td>-0.617801</td>\n",
              "      <td>-0.991390</td>\n",
              "      <td>-0.311169</td>\n",
              "      <td>1.468177</td>\n",
              "      <td>-0.470401</td>\n",
              "      <td>0.207971</td>\n",
              "      <td>0.025791</td>\n",
              "      <td>0.403993</td>\n",
              "      <td>0.251412</td>\n",
              "      <td>-0.018307</td>\n",
              "      <td>0.277838</td>\n",
              "      <td>-0.110474</td>\n",
              "      <td>0.066928</td>\n",
              "      <td>0.128539</td>\n",
              "      <td>-0.189115</td>\n",
              "      <td>0.133558</td>\n",
              "      <td>-0.021053</td>\n",
              "      <td>149.62</td>\n",
              "      <td>0</td>\n",
              "    </tr>\n",
              "    <tr>\n",
              "      <th>1</th>\n",
              "      <td>0</td>\n",
              "      <td>1.191857</td>\n",
              "      <td>0.266151</td>\n",
              "      <td>0.166480</td>\n",
              "      <td>0.448154</td>\n",
              "      <td>0.060018</td>\n",
              "      <td>-0.082361</td>\n",
              "      <td>-0.078803</td>\n",
              "      <td>0.085102</td>\n",
              "      <td>-0.255425</td>\n",
              "      <td>-0.166974</td>\n",
              "      <td>1.612727</td>\n",
              "      <td>1.065235</td>\n",
              "      <td>0.489095</td>\n",
              "      <td>-0.143772</td>\n",
              "      <td>0.635558</td>\n",
              "      <td>0.463917</td>\n",
              "      <td>-0.114805</td>\n",
              "      <td>-0.183361</td>\n",
              "      <td>-0.145783</td>\n",
              "      <td>-0.069083</td>\n",
              "      <td>-0.225775</td>\n",
              "      <td>-0.638672</td>\n",
              "      <td>0.101288</td>\n",
              "      <td>-0.339846</td>\n",
              "      <td>0.167170</td>\n",
              "      <td>0.125895</td>\n",
              "      <td>-0.008983</td>\n",
              "      <td>0.014724</td>\n",
              "      <td>2.69</td>\n",
              "      <td>0</td>\n",
              "    </tr>\n",
              "    <tr>\n",
              "      <th>2</th>\n",
              "      <td>1</td>\n",
              "      <td>-1.358354</td>\n",
              "      <td>-1.340163</td>\n",
              "      <td>1.773209</td>\n",
              "      <td>0.379780</td>\n",
              "      <td>-0.503198</td>\n",
              "      <td>1.800499</td>\n",
              "      <td>0.791461</td>\n",
              "      <td>0.247676</td>\n",
              "      <td>-1.514654</td>\n",
              "      <td>0.207643</td>\n",
              "      <td>0.624501</td>\n",
              "      <td>0.066084</td>\n",
              "      <td>0.717293</td>\n",
              "      <td>-0.165946</td>\n",
              "      <td>2.345865</td>\n",
              "      <td>-2.890083</td>\n",
              "      <td>1.109969</td>\n",
              "      <td>-0.121359</td>\n",
              "      <td>-2.261857</td>\n",
              "      <td>0.524980</td>\n",
              "      <td>0.247998</td>\n",
              "      <td>0.771679</td>\n",
              "      <td>0.909412</td>\n",
              "      <td>-0.689281</td>\n",
              "      <td>-0.327642</td>\n",
              "      <td>-0.139097</td>\n",
              "      <td>-0.055353</td>\n",
              "      <td>-0.059752</td>\n",
              "      <td>378.66</td>\n",
              "      <td>0</td>\n",
              "    </tr>\n",
              "    <tr>\n",
              "      <th>3</th>\n",
              "      <td>1</td>\n",
              "      <td>-0.966272</td>\n",
              "      <td>-0.185226</td>\n",
              "      <td>1.792993</td>\n",
              "      <td>-0.863291</td>\n",
              "      <td>-0.010309</td>\n",
              "      <td>1.247203</td>\n",
              "      <td>0.237609</td>\n",
              "      <td>0.377436</td>\n",
              "      <td>-1.387024</td>\n",
              "      <td>-0.054952</td>\n",
              "      <td>-0.226487</td>\n",
              "      <td>0.178228</td>\n",
              "      <td>0.507757</td>\n",
              "      <td>-0.287924</td>\n",
              "      <td>-0.631418</td>\n",
              "      <td>-1.059647</td>\n",
              "      <td>-0.684093</td>\n",
              "      <td>1.965775</td>\n",
              "      <td>-1.232622</td>\n",
              "      <td>-0.208038</td>\n",
              "      <td>-0.108300</td>\n",
              "      <td>0.005274</td>\n",
              "      <td>-0.190321</td>\n",
              "      <td>-1.175575</td>\n",
              "      <td>0.647376</td>\n",
              "      <td>-0.221929</td>\n",
              "      <td>0.062723</td>\n",
              "      <td>0.061458</td>\n",
              "      <td>123.50</td>\n",
              "      <td>0</td>\n",
              "    </tr>\n",
              "    <tr>\n",
              "      <th>4</th>\n",
              "      <td>2</td>\n",
              "      <td>-1.158233</td>\n",
              "      <td>0.877737</td>\n",
              "      <td>1.548718</td>\n",
              "      <td>0.403034</td>\n",
              "      <td>-0.407193</td>\n",
              "      <td>0.095921</td>\n",
              "      <td>0.592941</td>\n",
              "      <td>-0.270533</td>\n",
              "      <td>0.817739</td>\n",
              "      <td>0.753074</td>\n",
              "      <td>-0.822843</td>\n",
              "      <td>0.538196</td>\n",
              "      <td>1.345852</td>\n",
              "      <td>-1.119670</td>\n",
              "      <td>0.175121</td>\n",
              "      <td>-0.451449</td>\n",
              "      <td>-0.237033</td>\n",
              "      <td>-0.038195</td>\n",
              "      <td>0.803487</td>\n",
              "      <td>0.408542</td>\n",
              "      <td>-0.009431</td>\n",
              "      <td>0.798278</td>\n",
              "      <td>-0.137458</td>\n",
              "      <td>0.141267</td>\n",
              "      <td>-0.206010</td>\n",
              "      <td>0.502292</td>\n",
              "      <td>0.219422</td>\n",
              "      <td>0.215153</td>\n",
              "      <td>69.99</td>\n",
              "      <td>0</td>\n",
              "    </tr>\n",
              "  </tbody>\n",
              "</table>\n",
              "</div>"
            ],
            "text/plain": [
              "   Time        V1        V2        V3  ...       V27       V28  Amount  Class\n",
              "0     0 -1.359807 -0.072781  2.536347  ...  0.133558 -0.021053  149.62      0\n",
              "1     0  1.191857  0.266151  0.166480  ... -0.008983  0.014724    2.69      0\n",
              "2     1 -1.358354 -1.340163  1.773209  ... -0.055353 -0.059752  378.66      0\n",
              "3     1 -0.966272 -0.185226  1.792993  ...  0.062723  0.061458  123.50      0\n",
              "4     2 -1.158233  0.877737  1.548718  ...  0.219422  0.215153   69.99      0\n",
              "\n",
              "[5 rows x 31 columns]"
            ]
          },
          "metadata": {
            "tags": []
          },
          "execution_count": 3
        }
      ]
    },
    {
      "cell_type": "code",
      "metadata": {
        "id": "rSmLEfD6B6qP"
      },
      "source": [
        "# Separating the independent variables from dependent variables\n",
        "Y = df['Class']\n",
        "X = df.drop(labels=['Class'], axis=1)\n",
        "\n",
        "# define pipeline\n",
        "over = SMOTE(sampling_strategy=0.4)\n",
        "under = RandomUnderSampler(sampling_strategy=0.5)\n",
        "steps = [('o', over), ('u', under)]\n",
        "pipeline = Pipeline(steps=steps)"
      ],
      "execution_count": null,
      "outputs": []
    },
    {
      "cell_type": "code",
      "metadata": {
        "id": "3rjhXMzzCFv_"
      },
      "source": [
        "X,Y = pipeline.fit_resample(X,Y)"
      ],
      "execution_count": null,
      "outputs": []
    },
    {
      "cell_type": "code",
      "metadata": {
        "colab": {
          "base_uri": "https://localhost:8080/"
        },
        "id": "8mn1Weq2RTHg",
        "outputId": "b5247517-fa80-4c0e-8b85-12d38b343e8c"
      },
      "source": [
        "X.shape, Y.shape"
      ],
      "execution_count": null,
      "outputs": [
        {
          "output_type": "execute_result",
          "data": {
            "text/plain": [
              "((341178, 30), (341178,))"
            ]
          },
          "metadata": {
            "tags": []
          },
          "execution_count": 6
        }
      ]
    },
    {
      "cell_type": "code",
      "metadata": {
        "colab": {
          "base_uri": "https://localhost:8080/"
        },
        "id": "YwByq0qnRY-T",
        "outputId": "0256c1a6-eb7e-4499-d0f7-55c337411159"
      },
      "source": [
        "Y"
      ],
      "execution_count": null,
      "outputs": [
        {
          "output_type": "execute_result",
          "data": {
            "text/plain": [
              "array([0, 0, 0, ..., 1, 1, 1])"
            ]
          },
          "metadata": {
            "tags": []
          },
          "execution_count": 7
        }
      ]
    },
    {
      "cell_type": "code",
      "metadata": {
        "colab": {
          "base_uri": "https://localhost:8080/"
        },
        "id": "Z7uz9HoWRmmg",
        "outputId": "af875615-2cce-4bb9-d3df-035362090893"
      },
      "source": [
        "X"
      ],
      "execution_count": null,
      "outputs": [
        {
          "output_type": "execute_result",
          "data": {
            "text/plain": [
              "array([[ 4.02820000e+04,  1.30629860e+00,  4.02030069e-01, ...,\n",
              "        -1.73431630e-02,  2.57744700e-02,  6.96000000e+00],\n",
              "       [ 8.05470000e+04,  1.50235049e+00, -1.02800155e+00, ...,\n",
              "         4.44524480e-02,  1.31336420e-02,  1.82600000e+01],\n",
              "       [ 1.17229000e+05,  2.05910527e+00,  1.48192407e-01, ...,\n",
              "        -6.24283490e-02, -4.29442470e-02,  1.98000000e+00],\n",
              "       ...,\n",
              "       [ 2.67996722e+04, -2.09009553e+01,  1.25254721e+01, ...,\n",
              "         1.56156500e+00,  4.64981379e-01,  9.99900000e+01],\n",
              "       [ 3.58497115e+04, -2.99647989e+00,  3.53074241e+00, ...,\n",
              "         5.98033628e-01,  1.21101956e-01,  2.39499482e+01],\n",
              "       [ 1.28332691e+05,  7.83178674e-01,  1.37389291e+00, ...,\n",
              "         6.03616046e-01,  3.04914079e-01,  6.52652446e+01]])"
            ]
          },
          "metadata": {
            "tags": []
          },
          "execution_count": 8
        }
      ]
    },
    {
      "cell_type": "code",
      "metadata": {
        "id": "znTlyyQkRpF_"
      },
      "source": [
        "df_1 = df"
      ],
      "execution_count": null,
      "outputs": []
    },
    {
      "cell_type": "code",
      "metadata": {
        "id": "OeO1D6Q3R0SI"
      },
      "source": [
        "df_1 = pd.DataFrame(X,columns=['Time','V1','V2','V3','V4','V5','V6','V7','V8','V9','V10','V11','V12','V13','V14','V15','V16','V17','V18','V19','V20','V21','V22','V23','V24','V25','V26','V27','V28','Amount'])"
      ],
      "execution_count": null,
      "outputs": []
    },
    {
      "cell_type": "code",
      "metadata": {
        "colab": {
          "base_uri": "https://localhost:8080/",
          "height": 426
        },
        "id": "qdgMpexpSKuv",
        "outputId": "09ba2060-b30a-4079-e312-9ca4cec80a5c"
      },
      "source": [
        "df_1"
      ],
      "execution_count": null,
      "outputs": [
        {
          "output_type": "execute_result",
          "data": {
            "text/html": [
              "<div>\n",
              "<style scoped>\n",
              "    .dataframe tbody tr th:only-of-type {\n",
              "        vertical-align: middle;\n",
              "    }\n",
              "\n",
              "    .dataframe tbody tr th {\n",
              "        vertical-align: top;\n",
              "    }\n",
              "\n",
              "    .dataframe thead th {\n",
              "        text-align: right;\n",
              "    }\n",
              "</style>\n",
              "<table border=\"1\" class=\"dataframe\">\n",
              "  <thead>\n",
              "    <tr style=\"text-align: right;\">\n",
              "      <th></th>\n",
              "      <th>Time</th>\n",
              "      <th>V1</th>\n",
              "      <th>V2</th>\n",
              "      <th>V3</th>\n",
              "      <th>V4</th>\n",
              "      <th>V5</th>\n",
              "      <th>V6</th>\n",
              "      <th>V7</th>\n",
              "      <th>V8</th>\n",
              "      <th>V9</th>\n",
              "      <th>V10</th>\n",
              "      <th>V11</th>\n",
              "      <th>V12</th>\n",
              "      <th>V13</th>\n",
              "      <th>V14</th>\n",
              "      <th>V15</th>\n",
              "      <th>V16</th>\n",
              "      <th>V17</th>\n",
              "      <th>V18</th>\n",
              "      <th>V19</th>\n",
              "      <th>V20</th>\n",
              "      <th>V21</th>\n",
              "      <th>V22</th>\n",
              "      <th>V23</th>\n",
              "      <th>V24</th>\n",
              "      <th>V25</th>\n",
              "      <th>V26</th>\n",
              "      <th>V27</th>\n",
              "      <th>V28</th>\n",
              "      <th>Amount</th>\n",
              "    </tr>\n",
              "  </thead>\n",
              "  <tbody>\n",
              "    <tr>\n",
              "      <th>0</th>\n",
              "      <td>40282.000000</td>\n",
              "      <td>1.306299</td>\n",
              "      <td>0.402030</td>\n",
              "      <td>-0.026588</td>\n",
              "      <td>0.488862</td>\n",
              "      <td>0.138932</td>\n",
              "      <td>-0.562449</td>\n",
              "      <td>0.156738</td>\n",
              "      <td>-0.219259</td>\n",
              "      <td>-0.091417</td>\n",
              "      <td>-0.318930</td>\n",
              "      <td>-0.613281</td>\n",
              "      <td>0.593314</td>\n",
              "      <td>1.568235</td>\n",
              "      <td>-0.574388</td>\n",
              "      <td>1.024950</td>\n",
              "      <td>0.668038</td>\n",
              "      <td>-0.378586</td>\n",
              "      <td>-0.170743</td>\n",
              "      <td>0.108313</td>\n",
              "      <td>0.033510</td>\n",
              "      <td>-0.325939</td>\n",
              "      <td>-0.889452</td>\n",
              "      <td>0.006671</td>\n",
              "      <td>-0.462723</td>\n",
              "      <td>0.366656</td>\n",
              "      <td>0.141925</td>\n",
              "      <td>-0.017343</td>\n",
              "      <td>0.025774</td>\n",
              "      <td>6.960000</td>\n",
              "    </tr>\n",
              "    <tr>\n",
              "      <th>1</th>\n",
              "      <td>80547.000000</td>\n",
              "      <td>1.502350</td>\n",
              "      <td>-1.028002</td>\n",
              "      <td>0.202007</td>\n",
              "      <td>-1.482821</td>\n",
              "      <td>-1.135775</td>\n",
              "      <td>-0.276987</td>\n",
              "      <td>-0.996411</td>\n",
              "      <td>-0.077809</td>\n",
              "      <td>-1.803910</td>\n",
              "      <td>1.397701</td>\n",
              "      <td>-0.714589</td>\n",
              "      <td>-0.997935</td>\n",
              "      <td>0.488604</td>\n",
              "      <td>-0.292344</td>\n",
              "      <td>0.864007</td>\n",
              "      <td>-0.544749</td>\n",
              "      <td>0.611002</td>\n",
              "      <td>-0.318320</td>\n",
              "      <td>-0.416341</td>\n",
              "      <td>-0.340074</td>\n",
              "      <td>-0.217535</td>\n",
              "      <td>-0.208814</td>\n",
              "      <td>-0.000701</td>\n",
              "      <td>-0.451133</td>\n",
              "      <td>0.376601</td>\n",
              "      <td>-0.145780</td>\n",
              "      <td>0.044452</td>\n",
              "      <td>0.013134</td>\n",
              "      <td>18.260000</td>\n",
              "    </tr>\n",
              "    <tr>\n",
              "      <th>2</th>\n",
              "      <td>117229.000000</td>\n",
              "      <td>2.059105</td>\n",
              "      <td>0.148192</td>\n",
              "      <td>-1.827730</td>\n",
              "      <td>0.205241</td>\n",
              "      <td>0.722464</td>\n",
              "      <td>-0.320845</td>\n",
              "      <td>0.122773</td>\n",
              "      <td>-0.105284</td>\n",
              "      <td>0.153255</td>\n",
              "      <td>-0.229649</td>\n",
              "      <td>0.910005</td>\n",
              "      <td>1.085801</td>\n",
              "      <td>0.754602</td>\n",
              "      <td>-0.811585</td>\n",
              "      <td>-0.544969</td>\n",
              "      <td>0.591035</td>\n",
              "      <td>0.043439</td>\n",
              "      <td>0.225468</td>\n",
              "      <td>0.481499</td>\n",
              "      <td>-0.086694</td>\n",
              "      <td>-0.329761</td>\n",
              "      <td>-0.844652</td>\n",
              "      <td>0.271462</td>\n",
              "      <td>0.119061</td>\n",
              "      <td>-0.213373</td>\n",
              "      <td>0.175481</td>\n",
              "      <td>-0.062428</td>\n",
              "      <td>-0.042944</td>\n",
              "      <td>1.980000</td>\n",
              "    </tr>\n",
              "    <tr>\n",
              "      <th>3</th>\n",
              "      <td>143222.000000</td>\n",
              "      <td>-0.950264</td>\n",
              "      <td>0.327640</td>\n",
              "      <td>-1.422388</td>\n",
              "      <td>-4.368093</td>\n",
              "      <td>2.474716</td>\n",
              "      <td>2.851880</td>\n",
              "      <td>0.668277</td>\n",
              "      <td>1.165242</td>\n",
              "      <td>0.363367</td>\n",
              "      <td>-2.355565</td>\n",
              "      <td>-0.167284</td>\n",
              "      <td>0.503800</td>\n",
              "      <td>-0.434652</td>\n",
              "      <td>0.861150</td>\n",
              "      <td>0.358645</td>\n",
              "      <td>-0.285129</td>\n",
              "      <td>-0.588798</td>\n",
              "      <td>-0.581099</td>\n",
              "      <td>-0.471105</td>\n",
              "      <td>-0.119703</td>\n",
              "      <td>-0.096821</td>\n",
              "      <td>-0.660450</td>\n",
              "      <td>0.091605</td>\n",
              "      <td>0.669334</td>\n",
              "      <td>0.209070</td>\n",
              "      <td>-0.680546</td>\n",
              "      <td>-0.069645</td>\n",
              "      <td>0.053524</td>\n",
              "      <td>88.970000</td>\n",
              "    </tr>\n",
              "    <tr>\n",
              "      <th>4</th>\n",
              "      <td>167235.000000</td>\n",
              "      <td>2.088829</td>\n",
              "      <td>-0.626151</td>\n",
              "      <td>-3.732116</td>\n",
              "      <td>-2.629743</td>\n",
              "      <td>2.640856</td>\n",
              "      <td>2.357966</td>\n",
              "      <td>0.113813</td>\n",
              "      <td>0.436660</td>\n",
              "      <td>0.948500</td>\n",
              "      <td>-0.743465</td>\n",
              "      <td>0.338847</td>\n",
              "      <td>0.604925</td>\n",
              "      <td>-0.277756</td>\n",
              "      <td>1.036936</td>\n",
              "      <td>1.376001</td>\n",
              "      <td>-1.203660</td>\n",
              "      <td>-0.165978</td>\n",
              "      <td>-0.560185</td>\n",
              "      <td>0.687538</td>\n",
              "      <td>-0.066391</td>\n",
              "      <td>0.131641</td>\n",
              "      <td>0.382468</td>\n",
              "      <td>-0.025053</td>\n",
              "      <td>0.767729</td>\n",
              "      <td>0.464402</td>\n",
              "      <td>-0.046929</td>\n",
              "      <td>-0.047389</td>\n",
              "      <td>-0.076517</td>\n",
              "      <td>43.460000</td>\n",
              "    </tr>\n",
              "    <tr>\n",
              "      <th>...</th>\n",
              "      <td>...</td>\n",
              "      <td>...</td>\n",
              "      <td>...</td>\n",
              "      <td>...</td>\n",
              "      <td>...</td>\n",
              "      <td>...</td>\n",
              "      <td>...</td>\n",
              "      <td>...</td>\n",
              "      <td>...</td>\n",
              "      <td>...</td>\n",
              "      <td>...</td>\n",
              "      <td>...</td>\n",
              "      <td>...</td>\n",
              "      <td>...</td>\n",
              "      <td>...</td>\n",
              "      <td>...</td>\n",
              "      <td>...</td>\n",
              "      <td>...</td>\n",
              "      <td>...</td>\n",
              "      <td>...</td>\n",
              "      <td>...</td>\n",
              "      <td>...</td>\n",
              "      <td>...</td>\n",
              "      <td>...</td>\n",
              "      <td>...</td>\n",
              "      <td>...</td>\n",
              "      <td>...</td>\n",
              "      <td>...</td>\n",
              "      <td>...</td>\n",
              "      <td>...</td>\n",
              "    </tr>\n",
              "    <tr>\n",
              "      <th>341173</th>\n",
              "      <td>41185.358118</td>\n",
              "      <td>-7.331100</td>\n",
              "      <td>5.147897</td>\n",
              "      <td>-8.732335</td>\n",
              "      <td>7.564422</td>\n",
              "      <td>-7.359116</td>\n",
              "      <td>-2.746974</td>\n",
              "      <td>-11.645632</td>\n",
              "      <td>4.664734</td>\n",
              "      <td>-6.608875</td>\n",
              "      <td>-11.990694</td>\n",
              "      <td>7.111889</td>\n",
              "      <td>-13.718410</td>\n",
              "      <td>0.770602</td>\n",
              "      <td>-13.693262</td>\n",
              "      <td>1.188063</td>\n",
              "      <td>-12.415894</td>\n",
              "      <td>-22.621979</td>\n",
              "      <td>-8.273274</td>\n",
              "      <td>3.569868</td>\n",
              "      <td>0.802998</td>\n",
              "      <td>2.401332</td>\n",
              "      <td>0.611225</td>\n",
              "      <td>0.037742</td>\n",
              "      <td>0.565008</td>\n",
              "      <td>0.235206</td>\n",
              "      <td>0.479408</td>\n",
              "      <td>1.300712</td>\n",
              "      <td>0.253502</td>\n",
              "      <td>2.608877</td>\n",
              "    </tr>\n",
              "    <tr>\n",
              "      <th>341174</th>\n",
              "      <td>57025.430374</td>\n",
              "      <td>-2.252119</td>\n",
              "      <td>2.244003</td>\n",
              "      <td>-3.338008</td>\n",
              "      <td>2.189992</td>\n",
              "      <td>-3.395917</td>\n",
              "      <td>0.217534</td>\n",
              "      <td>-1.839351</td>\n",
              "      <td>1.426991</td>\n",
              "      <td>-2.002694</td>\n",
              "      <td>-5.646337</td>\n",
              "      <td>1.870015</td>\n",
              "      <td>-4.551803</td>\n",
              "      <td>0.740353</td>\n",
              "      <td>-6.275679</td>\n",
              "      <td>-0.072124</td>\n",
              "      <td>-3.664202</td>\n",
              "      <td>-7.303040</td>\n",
              "      <td>-2.726397</td>\n",
              "      <td>-0.280556</td>\n",
              "      <td>0.296508</td>\n",
              "      <td>0.775134</td>\n",
              "      <td>0.280501</td>\n",
              "      <td>0.266950</td>\n",
              "      <td>-0.592543</td>\n",
              "      <td>-0.094690</td>\n",
              "      <td>-0.393124</td>\n",
              "      <td>0.696206</td>\n",
              "      <td>0.210358</td>\n",
              "      <td>409.311742</td>\n",
              "    </tr>\n",
              "    <tr>\n",
              "      <th>341175</th>\n",
              "      <td>26799.672202</td>\n",
              "      <td>-20.900955</td>\n",
              "      <td>12.525472</td>\n",
              "      <td>-23.305667</td>\n",
              "      <td>6.160743</td>\n",
              "      <td>-15.826507</td>\n",
              "      <td>-4.405003</td>\n",
              "      <td>-16.097108</td>\n",
              "      <td>13.924835</td>\n",
              "      <td>-3.934455</td>\n",
              "      <td>-8.751897</td>\n",
              "      <td>5.547859</td>\n",
              "      <td>-7.819911</td>\n",
              "      <td>0.349736</td>\n",
              "      <td>-8.192306</td>\n",
              "      <td>-0.011290</td>\n",
              "      <td>-6.757431</td>\n",
              "      <td>-13.230711</td>\n",
              "      <td>-4.911501</td>\n",
              "      <td>1.165380</td>\n",
              "      <td>1.597995</td>\n",
              "      <td>1.756684</td>\n",
              "      <td>-1.496858</td>\n",
              "      <td>-0.882436</td>\n",
              "      <td>0.128169</td>\n",
              "      <td>1.431039</td>\n",
              "      <td>-0.223460</td>\n",
              "      <td>1.561565</td>\n",
              "      <td>0.464981</td>\n",
              "      <td>99.990000</td>\n",
              "    </tr>\n",
              "    <tr>\n",
              "      <th>341176</th>\n",
              "      <td>35849.711521</td>\n",
              "      <td>-2.996480</td>\n",
              "      <td>3.530742</td>\n",
              "      <td>-3.837548</td>\n",
              "      <td>3.898672</td>\n",
              "      <td>-2.522057</td>\n",
              "      <td>-1.588379</td>\n",
              "      <td>-4.657321</td>\n",
              "      <td>0.550039</td>\n",
              "      <td>-3.166351</td>\n",
              "      <td>-5.253951</td>\n",
              "      <td>3.779659</td>\n",
              "      <td>-7.656477</td>\n",
              "      <td>0.446699</td>\n",
              "      <td>-8.464106</td>\n",
              "      <td>0.681018</td>\n",
              "      <td>-6.682582</td>\n",
              "      <td>-12.273946</td>\n",
              "      <td>-4.735808</td>\n",
              "      <td>1.829449</td>\n",
              "      <td>0.823749</td>\n",
              "      <td>1.360479</td>\n",
              "      <td>-0.688085</td>\n",
              "      <td>-0.062320</td>\n",
              "      <td>0.006058</td>\n",
              "      <td>-0.329098</td>\n",
              "      <td>0.025597</td>\n",
              "      <td>0.598034</td>\n",
              "      <td>0.121102</td>\n",
              "      <td>23.949948</td>\n",
              "    </tr>\n",
              "    <tr>\n",
              "      <th>341177</th>\n",
              "      <td>128332.690694</td>\n",
              "      <td>0.783179</td>\n",
              "      <td>1.373893</td>\n",
              "      <td>-4.449145</td>\n",
              "      <td>3.041499</td>\n",
              "      <td>-0.394904</td>\n",
              "      <td>-0.823220</td>\n",
              "      <td>-2.427187</td>\n",
              "      <td>0.673921</td>\n",
              "      <td>-0.608972</td>\n",
              "      <td>-4.482405</td>\n",
              "      <td>3.469798</td>\n",
              "      <td>-3.178125</td>\n",
              "      <td>-0.311468</td>\n",
              "      <td>-8.396229</td>\n",
              "      <td>-1.556689</td>\n",
              "      <td>-2.478966</td>\n",
              "      <td>-2.585300</td>\n",
              "      <td>0.080605</td>\n",
              "      <td>0.048185</td>\n",
              "      <td>0.402818</td>\n",
              "      <td>0.557058</td>\n",
              "      <td>0.524949</td>\n",
              "      <td>-0.256826</td>\n",
              "      <td>0.329594</td>\n",
              "      <td>0.563114</td>\n",
              "      <td>-0.192228</td>\n",
              "      <td>0.603616</td>\n",
              "      <td>0.304914</td>\n",
              "      <td>65.265245</td>\n",
              "    </tr>\n",
              "  </tbody>\n",
              "</table>\n",
              "<p>341178 rows × 30 columns</p>\n",
              "</div>"
            ],
            "text/plain": [
              "                 Time         V1         V2  ...       V27       V28      Amount\n",
              "0        40282.000000   1.306299   0.402030  ... -0.017343  0.025774    6.960000\n",
              "1        80547.000000   1.502350  -1.028002  ...  0.044452  0.013134   18.260000\n",
              "2       117229.000000   2.059105   0.148192  ... -0.062428 -0.042944    1.980000\n",
              "3       143222.000000  -0.950264   0.327640  ... -0.069645  0.053524   88.970000\n",
              "4       167235.000000   2.088829  -0.626151  ... -0.047389 -0.076517   43.460000\n",
              "...               ...        ...        ...  ...       ...       ...         ...\n",
              "341173   41185.358118  -7.331100   5.147897  ...  1.300712  0.253502    2.608877\n",
              "341174   57025.430374  -2.252119   2.244003  ...  0.696206  0.210358  409.311742\n",
              "341175   26799.672202 -20.900955  12.525472  ...  1.561565  0.464981   99.990000\n",
              "341176   35849.711521  -2.996480   3.530742  ...  0.598034  0.121102   23.949948\n",
              "341177  128332.690694   0.783179   1.373893  ...  0.603616  0.304914   65.265245\n",
              "\n",
              "[341178 rows x 30 columns]"
            ]
          },
          "metadata": {
            "tags": []
          },
          "execution_count": 11
        }
      ]
    },
    {
      "cell_type": "code",
      "metadata": {
        "id": "6aqRkEZOSV4z"
      },
      "source": [
        "df_2 = pd.DataFrame(Y, columns=['Class'])"
      ],
      "execution_count": null,
      "outputs": []
    },
    {
      "cell_type": "code",
      "metadata": {
        "id": "AVshWSo0YgHR",
        "colab": {
          "base_uri": "https://localhost:8080/",
          "height": 406
        },
        "outputId": "3c47e85d-23fe-4795-a98d-f99e57ef7805"
      },
      "source": [
        "df_2"
      ],
      "execution_count": null,
      "outputs": [
        {
          "output_type": "execute_result",
          "data": {
            "text/html": [
              "<div>\n",
              "<style scoped>\n",
              "    .dataframe tbody tr th:only-of-type {\n",
              "        vertical-align: middle;\n",
              "    }\n",
              "\n",
              "    .dataframe tbody tr th {\n",
              "        vertical-align: top;\n",
              "    }\n",
              "\n",
              "    .dataframe thead th {\n",
              "        text-align: right;\n",
              "    }\n",
              "</style>\n",
              "<table border=\"1\" class=\"dataframe\">\n",
              "  <thead>\n",
              "    <tr style=\"text-align: right;\">\n",
              "      <th></th>\n",
              "      <th>Class</th>\n",
              "    </tr>\n",
              "  </thead>\n",
              "  <tbody>\n",
              "    <tr>\n",
              "      <th>0</th>\n",
              "      <td>0</td>\n",
              "    </tr>\n",
              "    <tr>\n",
              "      <th>1</th>\n",
              "      <td>0</td>\n",
              "    </tr>\n",
              "    <tr>\n",
              "      <th>2</th>\n",
              "      <td>0</td>\n",
              "    </tr>\n",
              "    <tr>\n",
              "      <th>3</th>\n",
              "      <td>0</td>\n",
              "    </tr>\n",
              "    <tr>\n",
              "      <th>4</th>\n",
              "      <td>0</td>\n",
              "    </tr>\n",
              "    <tr>\n",
              "      <th>...</th>\n",
              "      <td>...</td>\n",
              "    </tr>\n",
              "    <tr>\n",
              "      <th>341173</th>\n",
              "      <td>1</td>\n",
              "    </tr>\n",
              "    <tr>\n",
              "      <th>341174</th>\n",
              "      <td>1</td>\n",
              "    </tr>\n",
              "    <tr>\n",
              "      <th>341175</th>\n",
              "      <td>1</td>\n",
              "    </tr>\n",
              "    <tr>\n",
              "      <th>341176</th>\n",
              "      <td>1</td>\n",
              "    </tr>\n",
              "    <tr>\n",
              "      <th>341177</th>\n",
              "      <td>1</td>\n",
              "    </tr>\n",
              "  </tbody>\n",
              "</table>\n",
              "<p>341178 rows × 1 columns</p>\n",
              "</div>"
            ],
            "text/plain": [
              "        Class\n",
              "0           0\n",
              "1           0\n",
              "2           0\n",
              "3           0\n",
              "4           0\n",
              "...       ...\n",
              "341173      1\n",
              "341174      1\n",
              "341175      1\n",
              "341176      1\n",
              "341177      1\n",
              "\n",
              "[341178 rows x 1 columns]"
            ]
          },
          "metadata": {
            "tags": []
          },
          "execution_count": 13
        }
      ]
    },
    {
      "cell_type": "code",
      "metadata": {
        "colab": {
          "base_uri": "https://localhost:8080/"
        },
        "id": "YQMBDABOkZ1U",
        "outputId": "b963d609-7ab3-432b-c9ec-032cf106885c"
      },
      "source": [
        "df_2['Class']"
      ],
      "execution_count": null,
      "outputs": [
        {
          "output_type": "execute_result",
          "data": {
            "text/plain": [
              "0         0\n",
              "1         0\n",
              "2         0\n",
              "3         0\n",
              "4         0\n",
              "         ..\n",
              "341173    1\n",
              "341174    1\n",
              "341175    1\n",
              "341176    1\n",
              "341177    1\n",
              "Name: Class, Length: 341178, dtype: int64"
            ]
          },
          "metadata": {
            "tags": []
          },
          "execution_count": 24
        }
      ]
    },
    {
      "cell_type": "code",
      "metadata": {
        "id": "7G9hkXJbYhYX",
        "colab": {
          "base_uri": "https://localhost:8080/"
        },
        "outputId": "b8af15b0-5ec3-4fdd-c3c0-6de683a08e53"
      },
      "source": [
        "df_2.value_counts()"
      ],
      "execution_count": null,
      "outputs": [
        {
          "output_type": "execute_result",
          "data": {
            "text/plain": [
              "Class\n",
              "0        227452\n",
              "1        113726\n",
              "dtype: int64"
            ]
          },
          "metadata": {
            "tags": []
          },
          "execution_count": 14
        }
      ]
    },
    {
      "cell_type": "code",
      "metadata": {
        "id": "kza0qCtPWgpc"
      },
      "source": [
        "dfs = [df_1,df_2]"
      ],
      "execution_count": null,
      "outputs": []
    },
    {
      "cell_type": "code",
      "metadata": {
        "colab": {
          "base_uri": "https://localhost:8080/"
        },
        "id": "DEr2TDiNXRop",
        "outputId": "1b266b3b-d5b3-4f4a-beec-00939530539b"
      },
      "source": [
        "dfs"
      ],
      "execution_count": null,
      "outputs": [
        {
          "output_type": "execute_result",
          "data": {
            "text/plain": [
              "[                 Time         V1         V2  ...       V27       V28      Amount\n",
              " 0        40282.000000   1.306299   0.402030  ... -0.017343  0.025774    6.960000\n",
              " 1        80547.000000   1.502350  -1.028002  ...  0.044452  0.013134   18.260000\n",
              " 2       117229.000000   2.059105   0.148192  ... -0.062428 -0.042944    1.980000\n",
              " 3       143222.000000  -0.950264   0.327640  ... -0.069645  0.053524   88.970000\n",
              " 4       167235.000000   2.088829  -0.626151  ... -0.047389 -0.076517   43.460000\n",
              " ...               ...        ...        ...  ...       ...       ...         ...\n",
              " 341173   41185.358118  -7.331100   5.147897  ...  1.300712  0.253502    2.608877\n",
              " 341174   57025.430374  -2.252119   2.244003  ...  0.696206  0.210358  409.311742\n",
              " 341175   26799.672202 -20.900955  12.525472  ...  1.561565  0.464981   99.990000\n",
              " 341176   35849.711521  -2.996480   3.530742  ...  0.598034  0.121102   23.949948\n",
              " 341177  128332.690694   0.783179   1.373893  ...  0.603616  0.304914   65.265245\n",
              " \n",
              " [341178 rows x 30 columns],         Class\n",
              " 0           0\n",
              " 1           0\n",
              " 2           0\n",
              " 3           0\n",
              " 4           0\n",
              " ...       ...\n",
              " 341173      1\n",
              " 341174      1\n",
              " 341175      1\n",
              " 341176      1\n",
              " 341177      1\n",
              " \n",
              " [341178 rows x 1 columns]]"
            ]
          },
          "metadata": {
            "tags": []
          },
          "execution_count": 16
        }
      ]
    },
    {
      "cell_type": "code",
      "metadata": {
        "id": "A1H9F7m7X_5p"
      },
      "source": [
        "dfs = pd.concat(dfs, axis=1)"
      ],
      "execution_count": null,
      "outputs": []
    },
    {
      "cell_type": "code",
      "metadata": {
        "colab": {
          "base_uri": "https://localhost:8080/",
          "height": 426
        },
        "id": "4f9qjS87kP0s",
        "outputId": "bc9aa544-fa72-4104-8244-ab646b8222a5"
      },
      "source": [
        "dfs"
      ],
      "execution_count": null,
      "outputs": [
        {
          "output_type": "execute_result",
          "data": {
            "text/html": [
              "<div>\n",
              "<style scoped>\n",
              "    .dataframe tbody tr th:only-of-type {\n",
              "        vertical-align: middle;\n",
              "    }\n",
              "\n",
              "    .dataframe tbody tr th {\n",
              "        vertical-align: top;\n",
              "    }\n",
              "\n",
              "    .dataframe thead th {\n",
              "        text-align: right;\n",
              "    }\n",
              "</style>\n",
              "<table border=\"1\" class=\"dataframe\">\n",
              "  <thead>\n",
              "    <tr style=\"text-align: right;\">\n",
              "      <th></th>\n",
              "      <th>Time</th>\n",
              "      <th>V1</th>\n",
              "      <th>V2</th>\n",
              "      <th>V3</th>\n",
              "      <th>V4</th>\n",
              "      <th>V5</th>\n",
              "      <th>V6</th>\n",
              "      <th>V7</th>\n",
              "      <th>V8</th>\n",
              "      <th>V9</th>\n",
              "      <th>V10</th>\n",
              "      <th>V11</th>\n",
              "      <th>V12</th>\n",
              "      <th>V13</th>\n",
              "      <th>V14</th>\n",
              "      <th>V15</th>\n",
              "      <th>V16</th>\n",
              "      <th>V17</th>\n",
              "      <th>V18</th>\n",
              "      <th>V19</th>\n",
              "      <th>V20</th>\n",
              "      <th>V21</th>\n",
              "      <th>V22</th>\n",
              "      <th>V23</th>\n",
              "      <th>V24</th>\n",
              "      <th>V25</th>\n",
              "      <th>V26</th>\n",
              "      <th>V27</th>\n",
              "      <th>V28</th>\n",
              "      <th>Amount</th>\n",
              "      <th>Class</th>\n",
              "    </tr>\n",
              "  </thead>\n",
              "  <tbody>\n",
              "    <tr>\n",
              "      <th>0</th>\n",
              "      <td>40282.000000</td>\n",
              "      <td>1.306299</td>\n",
              "      <td>0.402030</td>\n",
              "      <td>-0.026588</td>\n",
              "      <td>0.488862</td>\n",
              "      <td>0.138932</td>\n",
              "      <td>-0.562449</td>\n",
              "      <td>0.156738</td>\n",
              "      <td>-0.219259</td>\n",
              "      <td>-0.091417</td>\n",
              "      <td>-0.318930</td>\n",
              "      <td>-0.613281</td>\n",
              "      <td>0.593314</td>\n",
              "      <td>1.568235</td>\n",
              "      <td>-0.574388</td>\n",
              "      <td>1.024950</td>\n",
              "      <td>0.668038</td>\n",
              "      <td>-0.378586</td>\n",
              "      <td>-0.170743</td>\n",
              "      <td>0.108313</td>\n",
              "      <td>0.033510</td>\n",
              "      <td>-0.325939</td>\n",
              "      <td>-0.889452</td>\n",
              "      <td>0.006671</td>\n",
              "      <td>-0.462723</td>\n",
              "      <td>0.366656</td>\n",
              "      <td>0.141925</td>\n",
              "      <td>-0.017343</td>\n",
              "      <td>0.025774</td>\n",
              "      <td>6.960000</td>\n",
              "      <td>0</td>\n",
              "    </tr>\n",
              "    <tr>\n",
              "      <th>1</th>\n",
              "      <td>80547.000000</td>\n",
              "      <td>1.502350</td>\n",
              "      <td>-1.028002</td>\n",
              "      <td>0.202007</td>\n",
              "      <td>-1.482821</td>\n",
              "      <td>-1.135775</td>\n",
              "      <td>-0.276987</td>\n",
              "      <td>-0.996411</td>\n",
              "      <td>-0.077809</td>\n",
              "      <td>-1.803910</td>\n",
              "      <td>1.397701</td>\n",
              "      <td>-0.714589</td>\n",
              "      <td>-0.997935</td>\n",
              "      <td>0.488604</td>\n",
              "      <td>-0.292344</td>\n",
              "      <td>0.864007</td>\n",
              "      <td>-0.544749</td>\n",
              "      <td>0.611002</td>\n",
              "      <td>-0.318320</td>\n",
              "      <td>-0.416341</td>\n",
              "      <td>-0.340074</td>\n",
              "      <td>-0.217535</td>\n",
              "      <td>-0.208814</td>\n",
              "      <td>-0.000701</td>\n",
              "      <td>-0.451133</td>\n",
              "      <td>0.376601</td>\n",
              "      <td>-0.145780</td>\n",
              "      <td>0.044452</td>\n",
              "      <td>0.013134</td>\n",
              "      <td>18.260000</td>\n",
              "      <td>0</td>\n",
              "    </tr>\n",
              "    <tr>\n",
              "      <th>2</th>\n",
              "      <td>117229.000000</td>\n",
              "      <td>2.059105</td>\n",
              "      <td>0.148192</td>\n",
              "      <td>-1.827730</td>\n",
              "      <td>0.205241</td>\n",
              "      <td>0.722464</td>\n",
              "      <td>-0.320845</td>\n",
              "      <td>0.122773</td>\n",
              "      <td>-0.105284</td>\n",
              "      <td>0.153255</td>\n",
              "      <td>-0.229649</td>\n",
              "      <td>0.910005</td>\n",
              "      <td>1.085801</td>\n",
              "      <td>0.754602</td>\n",
              "      <td>-0.811585</td>\n",
              "      <td>-0.544969</td>\n",
              "      <td>0.591035</td>\n",
              "      <td>0.043439</td>\n",
              "      <td>0.225468</td>\n",
              "      <td>0.481499</td>\n",
              "      <td>-0.086694</td>\n",
              "      <td>-0.329761</td>\n",
              "      <td>-0.844652</td>\n",
              "      <td>0.271462</td>\n",
              "      <td>0.119061</td>\n",
              "      <td>-0.213373</td>\n",
              "      <td>0.175481</td>\n",
              "      <td>-0.062428</td>\n",
              "      <td>-0.042944</td>\n",
              "      <td>1.980000</td>\n",
              "      <td>0</td>\n",
              "    </tr>\n",
              "    <tr>\n",
              "      <th>3</th>\n",
              "      <td>143222.000000</td>\n",
              "      <td>-0.950264</td>\n",
              "      <td>0.327640</td>\n",
              "      <td>-1.422388</td>\n",
              "      <td>-4.368093</td>\n",
              "      <td>2.474716</td>\n",
              "      <td>2.851880</td>\n",
              "      <td>0.668277</td>\n",
              "      <td>1.165242</td>\n",
              "      <td>0.363367</td>\n",
              "      <td>-2.355565</td>\n",
              "      <td>-0.167284</td>\n",
              "      <td>0.503800</td>\n",
              "      <td>-0.434652</td>\n",
              "      <td>0.861150</td>\n",
              "      <td>0.358645</td>\n",
              "      <td>-0.285129</td>\n",
              "      <td>-0.588798</td>\n",
              "      <td>-0.581099</td>\n",
              "      <td>-0.471105</td>\n",
              "      <td>-0.119703</td>\n",
              "      <td>-0.096821</td>\n",
              "      <td>-0.660450</td>\n",
              "      <td>0.091605</td>\n",
              "      <td>0.669334</td>\n",
              "      <td>0.209070</td>\n",
              "      <td>-0.680546</td>\n",
              "      <td>-0.069645</td>\n",
              "      <td>0.053524</td>\n",
              "      <td>88.970000</td>\n",
              "      <td>0</td>\n",
              "    </tr>\n",
              "    <tr>\n",
              "      <th>4</th>\n",
              "      <td>167235.000000</td>\n",
              "      <td>2.088829</td>\n",
              "      <td>-0.626151</td>\n",
              "      <td>-3.732116</td>\n",
              "      <td>-2.629743</td>\n",
              "      <td>2.640856</td>\n",
              "      <td>2.357966</td>\n",
              "      <td>0.113813</td>\n",
              "      <td>0.436660</td>\n",
              "      <td>0.948500</td>\n",
              "      <td>-0.743465</td>\n",
              "      <td>0.338847</td>\n",
              "      <td>0.604925</td>\n",
              "      <td>-0.277756</td>\n",
              "      <td>1.036936</td>\n",
              "      <td>1.376001</td>\n",
              "      <td>-1.203660</td>\n",
              "      <td>-0.165978</td>\n",
              "      <td>-0.560185</td>\n",
              "      <td>0.687538</td>\n",
              "      <td>-0.066391</td>\n",
              "      <td>0.131641</td>\n",
              "      <td>0.382468</td>\n",
              "      <td>-0.025053</td>\n",
              "      <td>0.767729</td>\n",
              "      <td>0.464402</td>\n",
              "      <td>-0.046929</td>\n",
              "      <td>-0.047389</td>\n",
              "      <td>-0.076517</td>\n",
              "      <td>43.460000</td>\n",
              "      <td>0</td>\n",
              "    </tr>\n",
              "    <tr>\n",
              "      <th>...</th>\n",
              "      <td>...</td>\n",
              "      <td>...</td>\n",
              "      <td>...</td>\n",
              "      <td>...</td>\n",
              "      <td>...</td>\n",
              "      <td>...</td>\n",
              "      <td>...</td>\n",
              "      <td>...</td>\n",
              "      <td>...</td>\n",
              "      <td>...</td>\n",
              "      <td>...</td>\n",
              "      <td>...</td>\n",
              "      <td>...</td>\n",
              "      <td>...</td>\n",
              "      <td>...</td>\n",
              "      <td>...</td>\n",
              "      <td>...</td>\n",
              "      <td>...</td>\n",
              "      <td>...</td>\n",
              "      <td>...</td>\n",
              "      <td>...</td>\n",
              "      <td>...</td>\n",
              "      <td>...</td>\n",
              "      <td>...</td>\n",
              "      <td>...</td>\n",
              "      <td>...</td>\n",
              "      <td>...</td>\n",
              "      <td>...</td>\n",
              "      <td>...</td>\n",
              "      <td>...</td>\n",
              "      <td>...</td>\n",
              "    </tr>\n",
              "    <tr>\n",
              "      <th>341173</th>\n",
              "      <td>41185.358118</td>\n",
              "      <td>-7.331100</td>\n",
              "      <td>5.147897</td>\n",
              "      <td>-8.732335</td>\n",
              "      <td>7.564422</td>\n",
              "      <td>-7.359116</td>\n",
              "      <td>-2.746974</td>\n",
              "      <td>-11.645632</td>\n",
              "      <td>4.664734</td>\n",
              "      <td>-6.608875</td>\n",
              "      <td>-11.990694</td>\n",
              "      <td>7.111889</td>\n",
              "      <td>-13.718410</td>\n",
              "      <td>0.770602</td>\n",
              "      <td>-13.693262</td>\n",
              "      <td>1.188063</td>\n",
              "      <td>-12.415894</td>\n",
              "      <td>-22.621979</td>\n",
              "      <td>-8.273274</td>\n",
              "      <td>3.569868</td>\n",
              "      <td>0.802998</td>\n",
              "      <td>2.401332</td>\n",
              "      <td>0.611225</td>\n",
              "      <td>0.037742</td>\n",
              "      <td>0.565008</td>\n",
              "      <td>0.235206</td>\n",
              "      <td>0.479408</td>\n",
              "      <td>1.300712</td>\n",
              "      <td>0.253502</td>\n",
              "      <td>2.608877</td>\n",
              "      <td>1</td>\n",
              "    </tr>\n",
              "    <tr>\n",
              "      <th>341174</th>\n",
              "      <td>57025.430374</td>\n",
              "      <td>-2.252119</td>\n",
              "      <td>2.244003</td>\n",
              "      <td>-3.338008</td>\n",
              "      <td>2.189992</td>\n",
              "      <td>-3.395917</td>\n",
              "      <td>0.217534</td>\n",
              "      <td>-1.839351</td>\n",
              "      <td>1.426991</td>\n",
              "      <td>-2.002694</td>\n",
              "      <td>-5.646337</td>\n",
              "      <td>1.870015</td>\n",
              "      <td>-4.551803</td>\n",
              "      <td>0.740353</td>\n",
              "      <td>-6.275679</td>\n",
              "      <td>-0.072124</td>\n",
              "      <td>-3.664202</td>\n",
              "      <td>-7.303040</td>\n",
              "      <td>-2.726397</td>\n",
              "      <td>-0.280556</td>\n",
              "      <td>0.296508</td>\n",
              "      <td>0.775134</td>\n",
              "      <td>0.280501</td>\n",
              "      <td>0.266950</td>\n",
              "      <td>-0.592543</td>\n",
              "      <td>-0.094690</td>\n",
              "      <td>-0.393124</td>\n",
              "      <td>0.696206</td>\n",
              "      <td>0.210358</td>\n",
              "      <td>409.311742</td>\n",
              "      <td>1</td>\n",
              "    </tr>\n",
              "    <tr>\n",
              "      <th>341175</th>\n",
              "      <td>26799.672202</td>\n",
              "      <td>-20.900955</td>\n",
              "      <td>12.525472</td>\n",
              "      <td>-23.305667</td>\n",
              "      <td>6.160743</td>\n",
              "      <td>-15.826507</td>\n",
              "      <td>-4.405003</td>\n",
              "      <td>-16.097108</td>\n",
              "      <td>13.924835</td>\n",
              "      <td>-3.934455</td>\n",
              "      <td>-8.751897</td>\n",
              "      <td>5.547859</td>\n",
              "      <td>-7.819911</td>\n",
              "      <td>0.349736</td>\n",
              "      <td>-8.192306</td>\n",
              "      <td>-0.011290</td>\n",
              "      <td>-6.757431</td>\n",
              "      <td>-13.230711</td>\n",
              "      <td>-4.911501</td>\n",
              "      <td>1.165380</td>\n",
              "      <td>1.597995</td>\n",
              "      <td>1.756684</td>\n",
              "      <td>-1.496858</td>\n",
              "      <td>-0.882436</td>\n",
              "      <td>0.128169</td>\n",
              "      <td>1.431039</td>\n",
              "      <td>-0.223460</td>\n",
              "      <td>1.561565</td>\n",
              "      <td>0.464981</td>\n",
              "      <td>99.990000</td>\n",
              "      <td>1</td>\n",
              "    </tr>\n",
              "    <tr>\n",
              "      <th>341176</th>\n",
              "      <td>35849.711521</td>\n",
              "      <td>-2.996480</td>\n",
              "      <td>3.530742</td>\n",
              "      <td>-3.837548</td>\n",
              "      <td>3.898672</td>\n",
              "      <td>-2.522057</td>\n",
              "      <td>-1.588379</td>\n",
              "      <td>-4.657321</td>\n",
              "      <td>0.550039</td>\n",
              "      <td>-3.166351</td>\n",
              "      <td>-5.253951</td>\n",
              "      <td>3.779659</td>\n",
              "      <td>-7.656477</td>\n",
              "      <td>0.446699</td>\n",
              "      <td>-8.464106</td>\n",
              "      <td>0.681018</td>\n",
              "      <td>-6.682582</td>\n",
              "      <td>-12.273946</td>\n",
              "      <td>-4.735808</td>\n",
              "      <td>1.829449</td>\n",
              "      <td>0.823749</td>\n",
              "      <td>1.360479</td>\n",
              "      <td>-0.688085</td>\n",
              "      <td>-0.062320</td>\n",
              "      <td>0.006058</td>\n",
              "      <td>-0.329098</td>\n",
              "      <td>0.025597</td>\n",
              "      <td>0.598034</td>\n",
              "      <td>0.121102</td>\n",
              "      <td>23.949948</td>\n",
              "      <td>1</td>\n",
              "    </tr>\n",
              "    <tr>\n",
              "      <th>341177</th>\n",
              "      <td>128332.690694</td>\n",
              "      <td>0.783179</td>\n",
              "      <td>1.373893</td>\n",
              "      <td>-4.449145</td>\n",
              "      <td>3.041499</td>\n",
              "      <td>-0.394904</td>\n",
              "      <td>-0.823220</td>\n",
              "      <td>-2.427187</td>\n",
              "      <td>0.673921</td>\n",
              "      <td>-0.608972</td>\n",
              "      <td>-4.482405</td>\n",
              "      <td>3.469798</td>\n",
              "      <td>-3.178125</td>\n",
              "      <td>-0.311468</td>\n",
              "      <td>-8.396229</td>\n",
              "      <td>-1.556689</td>\n",
              "      <td>-2.478966</td>\n",
              "      <td>-2.585300</td>\n",
              "      <td>0.080605</td>\n",
              "      <td>0.048185</td>\n",
              "      <td>0.402818</td>\n",
              "      <td>0.557058</td>\n",
              "      <td>0.524949</td>\n",
              "      <td>-0.256826</td>\n",
              "      <td>0.329594</td>\n",
              "      <td>0.563114</td>\n",
              "      <td>-0.192228</td>\n",
              "      <td>0.603616</td>\n",
              "      <td>0.304914</td>\n",
              "      <td>65.265245</td>\n",
              "      <td>1</td>\n",
              "    </tr>\n",
              "  </tbody>\n",
              "</table>\n",
              "<p>341178 rows × 31 columns</p>\n",
              "</div>"
            ],
            "text/plain": [
              "                 Time         V1         V2  ...       V28      Amount  Class\n",
              "0        40282.000000   1.306299   0.402030  ...  0.025774    6.960000      0\n",
              "1        80547.000000   1.502350  -1.028002  ...  0.013134   18.260000      0\n",
              "2       117229.000000   2.059105   0.148192  ... -0.042944    1.980000      0\n",
              "3       143222.000000  -0.950264   0.327640  ...  0.053524   88.970000      0\n",
              "4       167235.000000   2.088829  -0.626151  ... -0.076517   43.460000      0\n",
              "...               ...        ...        ...  ...       ...         ...    ...\n",
              "341173   41185.358118  -7.331100   5.147897  ...  0.253502    2.608877      1\n",
              "341174   57025.430374  -2.252119   2.244003  ...  0.210358  409.311742      1\n",
              "341175   26799.672202 -20.900955  12.525472  ...  0.464981   99.990000      1\n",
              "341176   35849.711521  -2.996480   3.530742  ...  0.121102   23.949948      1\n",
              "341177  128332.690694   0.783179   1.373893  ...  0.304914   65.265245      1\n",
              "\n",
              "[341178 rows x 31 columns]"
            ]
          },
          "metadata": {
            "tags": []
          },
          "execution_count": 31
        }
      ]
    },
    {
      "cell_type": "code",
      "metadata": {
        "colab": {
          "base_uri": "https://localhost:8080/"
        },
        "id": "zFmhAmOGklPf",
        "outputId": "1746334c-fb66-4035-dbc4-97ab9da427bb"
      },
      "source": [
        "dfs.info()"
      ],
      "execution_count": null,
      "outputs": [
        {
          "output_type": "stream",
          "text": [
            "<class 'pandas.core.frame.DataFrame'>\n",
            "RangeIndex: 341178 entries, 0 to 341177\n",
            "Data columns (total 31 columns):\n",
            " #   Column  Non-Null Count   Dtype  \n",
            "---  ------  --------------   -----  \n",
            " 0   Time    341178 non-null  float64\n",
            " 1   V1      341178 non-null  float64\n",
            " 2   V2      341178 non-null  float64\n",
            " 3   V3      341178 non-null  float64\n",
            " 4   V4      341178 non-null  float64\n",
            " 5   V5      341178 non-null  float64\n",
            " 6   V6      341178 non-null  float64\n",
            " 7   V7      341178 non-null  float64\n",
            " 8   V8      341178 non-null  float64\n",
            " 9   V9      341178 non-null  float64\n",
            " 10  V10     341178 non-null  float64\n",
            " 11  V11     341178 non-null  float64\n",
            " 12  V12     341178 non-null  float64\n",
            " 13  V13     341178 non-null  float64\n",
            " 14  V14     341178 non-null  float64\n",
            " 15  V15     341178 non-null  float64\n",
            " 16  V16     341178 non-null  float64\n",
            " 17  V17     341178 non-null  float64\n",
            " 18  V18     341178 non-null  float64\n",
            " 19  V19     341178 non-null  float64\n",
            " 20  V20     341178 non-null  float64\n",
            " 21  V21     341178 non-null  float64\n",
            " 22  V22     341178 non-null  float64\n",
            " 23  V23     341178 non-null  float64\n",
            " 24  V24     341178 non-null  float64\n",
            " 25  V25     341178 non-null  float64\n",
            " 26  V26     341178 non-null  float64\n",
            " 27  V27     341178 non-null  float64\n",
            " 28  V28     341178 non-null  float64\n",
            " 29  Amount  341178 non-null  float64\n",
            " 30  Class   341178 non-null  int64  \n",
            "dtypes: float64(30), int64(1)\n",
            "memory usage: 80.7 MB\n"
          ],
          "name": "stdout"
        }
      ]
    },
    {
      "cell_type": "code",
      "metadata": {
        "colab": {
          "base_uri": "https://localhost:8080/"
        },
        "id": "CNVIbMUCkn-r",
        "outputId": "c623d619-248e-41e6-8700-8d42d2a4ae58"
      },
      "source": [
        "df_1.info()"
      ],
      "execution_count": null,
      "outputs": [
        {
          "output_type": "stream",
          "text": [
            "<class 'pandas.core.frame.DataFrame'>\n",
            "RangeIndex: 341178 entries, 0 to 341177\n",
            "Data columns (total 30 columns):\n",
            " #   Column  Non-Null Count   Dtype  \n",
            "---  ------  --------------   -----  \n",
            " 0   Time    341178 non-null  float64\n",
            " 1   V1      341178 non-null  float64\n",
            " 2   V2      341178 non-null  float64\n",
            " 3   V3      341178 non-null  float64\n",
            " 4   V4      341178 non-null  float64\n",
            " 5   V5      341178 non-null  float64\n",
            " 6   V6      341178 non-null  float64\n",
            " 7   V7      341178 non-null  float64\n",
            " 8   V8      341178 non-null  float64\n",
            " 9   V9      341178 non-null  float64\n",
            " 10  V10     341178 non-null  float64\n",
            " 11  V11     341178 non-null  float64\n",
            " 12  V12     341178 non-null  float64\n",
            " 13  V13     341178 non-null  float64\n",
            " 14  V14     341178 non-null  float64\n",
            " 15  V15     341178 non-null  float64\n",
            " 16  V16     341178 non-null  float64\n",
            " 17  V17     341178 non-null  float64\n",
            " 18  V18     341178 non-null  float64\n",
            " 19  V19     341178 non-null  float64\n",
            " 20  V20     341178 non-null  float64\n",
            " 21  V21     341178 non-null  float64\n",
            " 22  V22     341178 non-null  float64\n",
            " 23  V23     341178 non-null  float64\n",
            " 24  V24     341178 non-null  float64\n",
            " 25  V25     341178 non-null  float64\n",
            " 26  V26     341178 non-null  float64\n",
            " 27  V27     341178 non-null  float64\n",
            " 28  V28     341178 non-null  float64\n",
            " 29  Amount  341178 non-null  float64\n",
            "dtypes: float64(30)\n",
            "memory usage: 78.1 MB\n"
          ],
          "name": "stdout"
        }
      ]
    },
    {
      "cell_type": "code",
      "metadata": {
        "colab": {
          "base_uri": "https://localhost:8080/"
        },
        "id": "Ulmpvp8tk0Gp",
        "outputId": "6dca9c00-380d-4e5d-bfe8-ddd9767f99b6"
      },
      "source": [
        "# dataset akan disesuaikan agar dataset balance\n",
        "fraud = dfs[dfs['Class']==1]\n",
        "non_fraud = dfs[dfs['Class']==0]\n",
        "fraud.shape, non_fraud.shape"
      ],
      "execution_count": null,
      "outputs": [
        {
          "output_type": "execute_result",
          "data": {
            "text/plain": [
              "((113726, 31), (227452, 31))"
            ]
          },
          "metadata": {
            "tags": []
          },
          "execution_count": 34
        }
      ]
    },
    {
      "cell_type": "code",
      "metadata": {
        "colab": {
          "base_uri": "https://localhost:8080/",
          "height": 321
        },
        "id": "ReiFPL-MlKAF",
        "outputId": "044e5f4b-93af-42cc-c231-c822dd85a8e4"
      },
      "source": [
        "labels = ['NotFraud(0)','Fraud(1)']\n",
        "size = [227452,113726]\n",
        "colors = ['cyan','yellow']\n",
        "explode = [0,0.1]\n",
        "\n",
        "plt.rcParams['figure.figsize']=(5,5)\n",
        "plt.pie(size, colors=colors, explode=explode, labels=labels, shadow=True,autopct='%.2f%%')\n",
        "plt.title('Fraud Datas',fontsize=16)\n",
        "plt.axis('off')\n",
        "plt.legend()\n",
        "plt.show()"
      ],
      "execution_count": null,
      "outputs": [
        {
          "output_type": "display_data",
          "data": {
            "image/png": "[encoded data removed]",
            "text/plain": [
              "<Figure size 360x360 with 1 Axes>"
            ]
          },
          "metadata": {
            "tags": []
          }
        }
      ]
    },
    {
      "cell_type": "code",
      "metadata": {
        "colab": {
          "base_uri": "https://localhost:8080/"
        },
        "id": "6mfUh-NQlaXe",
        "outputId": "486279a5-6318-4008-9aa9-614c68adcc9b"
      },
      "source": [
        "# random selection of sampels\n",
        "non_fraud_t = non_fraud.sample(n = 113726)\n",
        "non_fraud_t.shape"
      ],
      "execution_count": null,
      "outputs": [
        {
          "output_type": "execute_result",
          "data": {
            "text/plain": [
              "(113726, 31)"
            ]
          },
          "metadata": {
            "tags": []
          },
          "execution_count": 36
        }
      ]
    },
    {
      "cell_type": "code",
      "metadata": {
        "id": "wytqz-GJlmOG"
      },
      "source": [
        "# merge dataset\n",
        "dataset_1 = fraud.append(non_fraud_t, ignore_index=True)"
      ],
      "execution_count": null,
      "outputs": []
    },
    {
      "cell_type": "code",
      "metadata": {
        "colab": {
          "base_uri": "https://localhost:8080/",
          "height": 426
        },
        "id": "lQ5nWDWzlpQf",
        "outputId": "ba594020-5573-44f4-ba0e-3ddca088d69f"
      },
      "source": [
        "dataset_1"
      ],
      "execution_count": null,
      "outputs": [
        {
          "output_type": "execute_result",
          "data": {
            "text/html": [
              "<div>\n",
              "<style scoped>\n",
              "    .dataframe tbody tr th:only-of-type {\n",
              "        vertical-align: middle;\n",
              "    }\n",
              "\n",
              "    .dataframe tbody tr th {\n",
              "        vertical-align: top;\n",
              "    }\n",
              "\n",
              "    .dataframe thead th {\n",
              "        text-align: right;\n",
              "    }\n",
              "</style>\n",
              "<table border=\"1\" class=\"dataframe\">\n",
              "  <thead>\n",
              "    <tr style=\"text-align: right;\">\n",
              "      <th></th>\n",
              "      <th>Time</th>\n",
              "      <th>V1</th>\n",
              "      <th>V2</th>\n",
              "      <th>V3</th>\n",
              "      <th>V4</th>\n",
              "      <th>V5</th>\n",
              "      <th>V6</th>\n",
              "      <th>V7</th>\n",
              "      <th>V8</th>\n",
              "      <th>V9</th>\n",
              "      <th>V10</th>\n",
              "      <th>V11</th>\n",
              "      <th>V12</th>\n",
              "      <th>V13</th>\n",
              "      <th>V14</th>\n",
              "      <th>V15</th>\n",
              "      <th>V16</th>\n",
              "      <th>V17</th>\n",
              "      <th>V18</th>\n",
              "      <th>V19</th>\n",
              "      <th>V20</th>\n",
              "      <th>V21</th>\n",
              "      <th>V22</th>\n",
              "      <th>V23</th>\n",
              "      <th>V24</th>\n",
              "      <th>V25</th>\n",
              "      <th>V26</th>\n",
              "      <th>V27</th>\n",
              "      <th>V28</th>\n",
              "      <th>Amount</th>\n",
              "      <th>Class</th>\n",
              "    </tr>\n",
              "  </thead>\n",
              "  <tbody>\n",
              "    <tr>\n",
              "      <th>0</th>\n",
              "      <td>406.0</td>\n",
              "      <td>-2.312227</td>\n",
              "      <td>1.951992</td>\n",
              "      <td>-1.609851</td>\n",
              "      <td>3.997906</td>\n",
              "      <td>-0.522188</td>\n",
              "      <td>-1.426545</td>\n",
              "      <td>-2.537387</td>\n",
              "      <td>1.391657</td>\n",
              "      <td>-2.770089</td>\n",
              "      <td>-2.772272</td>\n",
              "      <td>3.202033</td>\n",
              "      <td>-2.899907</td>\n",
              "      <td>-0.595222</td>\n",
              "      <td>-4.289254</td>\n",
              "      <td>0.389724</td>\n",
              "      <td>-1.140747</td>\n",
              "      <td>-2.830056</td>\n",
              "      <td>-0.016822</td>\n",
              "      <td>0.416956</td>\n",
              "      <td>0.126911</td>\n",
              "      <td>0.517232</td>\n",
              "      <td>-0.035049</td>\n",
              "      <td>-0.465211</td>\n",
              "      <td>0.320198</td>\n",
              "      <td>0.044519</td>\n",
              "      <td>0.177840</td>\n",
              "      <td>0.261145</td>\n",
              "      <td>-0.143276</td>\n",
              "      <td>0.00</td>\n",
              "      <td>1</td>\n",
              "    </tr>\n",
              "    <tr>\n",
              "      <th>1</th>\n",
              "      <td>472.0</td>\n",
              "      <td>-3.043541</td>\n",
              "      <td>-3.157307</td>\n",
              "      <td>1.088463</td>\n",
              "      <td>2.288644</td>\n",
              "      <td>1.359805</td>\n",
              "      <td>-1.064823</td>\n",
              "      <td>0.325574</td>\n",
              "      <td>-0.067794</td>\n",
              "      <td>-0.270953</td>\n",
              "      <td>-0.838587</td>\n",
              "      <td>-0.414575</td>\n",
              "      <td>-0.503141</td>\n",
              "      <td>0.676502</td>\n",
              "      <td>-1.692029</td>\n",
              "      <td>2.000635</td>\n",
              "      <td>0.666780</td>\n",
              "      <td>0.599717</td>\n",
              "      <td>1.725321</td>\n",
              "      <td>0.283345</td>\n",
              "      <td>2.102339</td>\n",
              "      <td>0.661696</td>\n",
              "      <td>0.435477</td>\n",
              "      <td>1.375966</td>\n",
              "      <td>-0.293803</td>\n",
              "      <td>0.279798</td>\n",
              "      <td>-0.145362</td>\n",
              "      <td>-0.252773</td>\n",
              "      <td>0.035764</td>\n",
              "      <td>529.00</td>\n",
              "      <td>1</td>\n",
              "    </tr>\n",
              "    <tr>\n",
              "      <th>2</th>\n",
              "      <td>4462.0</td>\n",
              "      <td>-2.303350</td>\n",
              "      <td>1.759247</td>\n",
              "      <td>-0.359745</td>\n",
              "      <td>2.330243</td>\n",
              "      <td>-0.821628</td>\n",
              "      <td>-0.075788</td>\n",
              "      <td>0.562320</td>\n",
              "      <td>-0.399147</td>\n",
              "      <td>-0.238253</td>\n",
              "      <td>-1.525412</td>\n",
              "      <td>2.032912</td>\n",
              "      <td>-6.560124</td>\n",
              "      <td>0.022937</td>\n",
              "      <td>-1.470102</td>\n",
              "      <td>-0.698826</td>\n",
              "      <td>-2.282194</td>\n",
              "      <td>-4.781831</td>\n",
              "      <td>-2.615665</td>\n",
              "      <td>-1.334441</td>\n",
              "      <td>-0.430022</td>\n",
              "      <td>-0.294166</td>\n",
              "      <td>-0.932391</td>\n",
              "      <td>0.172726</td>\n",
              "      <td>-0.087330</td>\n",
              "      <td>-0.156114</td>\n",
              "      <td>-0.542628</td>\n",
              "      <td>0.039566</td>\n",
              "      <td>-0.153029</td>\n",
              "      <td>239.93</td>\n",
              "      <td>1</td>\n",
              "    </tr>\n",
              "    <tr>\n",
              "      <th>3</th>\n",
              "      <td>6986.0</td>\n",
              "      <td>-4.397974</td>\n",
              "      <td>1.358367</td>\n",
              "      <td>-2.592844</td>\n",
              "      <td>2.679787</td>\n",
              "      <td>-1.128131</td>\n",
              "      <td>-1.706536</td>\n",
              "      <td>-3.496197</td>\n",
              "      <td>-0.248778</td>\n",
              "      <td>-0.247768</td>\n",
              "      <td>-4.801637</td>\n",
              "      <td>4.895844</td>\n",
              "      <td>-10.912819</td>\n",
              "      <td>0.184372</td>\n",
              "      <td>-6.771097</td>\n",
              "      <td>-0.007326</td>\n",
              "      <td>-7.358083</td>\n",
              "      <td>-12.598419</td>\n",
              "      <td>-5.131549</td>\n",
              "      <td>0.308334</td>\n",
              "      <td>-0.171608</td>\n",
              "      <td>0.573574</td>\n",
              "      <td>0.176968</td>\n",
              "      <td>-0.436207</td>\n",
              "      <td>-0.053502</td>\n",
              "      <td>0.252405</td>\n",
              "      <td>-0.657488</td>\n",
              "      <td>-0.827136</td>\n",
              "      <td>0.849573</td>\n",
              "      <td>59.00</td>\n",
              "      <td>1</td>\n",
              "    </tr>\n",
              "    <tr>\n",
              "      <th>4</th>\n",
              "      <td>7519.0</td>\n",
              "      <td>1.234235</td>\n",
              "      <td>3.019740</td>\n",
              "      <td>-4.304597</td>\n",
              "      <td>4.732795</td>\n",
              "      <td>3.624201</td>\n",
              "      <td>-1.357746</td>\n",
              "      <td>1.713445</td>\n",
              "      <td>-0.496358</td>\n",
              "      <td>-1.282858</td>\n",
              "      <td>-2.447469</td>\n",
              "      <td>2.101344</td>\n",
              "      <td>-4.609628</td>\n",
              "      <td>1.464378</td>\n",
              "      <td>-6.079337</td>\n",
              "      <td>-0.339237</td>\n",
              "      <td>2.581851</td>\n",
              "      <td>6.739384</td>\n",
              "      <td>3.042493</td>\n",
              "      <td>-2.721853</td>\n",
              "      <td>0.009061</td>\n",
              "      <td>-0.379068</td>\n",
              "      <td>-0.704181</td>\n",
              "      <td>-0.656805</td>\n",
              "      <td>-1.632653</td>\n",
              "      <td>1.488901</td>\n",
              "      <td>0.566797</td>\n",
              "      <td>-0.010016</td>\n",
              "      <td>0.146793</td>\n",
              "      <td>1.00</td>\n",
              "      <td>1</td>\n",
              "    </tr>\n",
              "    <tr>\n",
              "      <th>...</th>\n",
              "      <td>...</td>\n",
              "      <td>...</td>\n",
              "      <td>...</td>\n",
              "      <td>...</td>\n",
              "      <td>...</td>\n",
              "      <td>...</td>\n",
              "      <td>...</td>\n",
              "      <td>...</td>\n",
              "      <td>...</td>\n",
              "      <td>...</td>\n",
              "      <td>...</td>\n",
              "      <td>...</td>\n",
              "      <td>...</td>\n",
              "      <td>...</td>\n",
              "      <td>...</td>\n",
              "      <td>...</td>\n",
              "      <td>...</td>\n",
              "      <td>...</td>\n",
              "      <td>...</td>\n",
              "      <td>...</td>\n",
              "      <td>...</td>\n",
              "      <td>...</td>\n",
              "      <td>...</td>\n",
              "      <td>...</td>\n",
              "      <td>...</td>\n",
              "      <td>...</td>\n",
              "      <td>...</td>\n",
              "      <td>...</td>\n",
              "      <td>...</td>\n",
              "      <td>...</td>\n",
              "      <td>...</td>\n",
              "    </tr>\n",
              "    <tr>\n",
              "      <th>227447</th>\n",
              "      <td>47400.0</td>\n",
              "      <td>1.578237</td>\n",
              "      <td>-1.204062</td>\n",
              "      <td>-1.149659</td>\n",
              "      <td>-2.502673</td>\n",
              "      <td>0.982799</td>\n",
              "      <td>3.234754</td>\n",
              "      <td>-1.489542</td>\n",
              "      <td>0.747173</td>\n",
              "      <td>-1.984723</td>\n",
              "      <td>1.500604</td>\n",
              "      <td>-0.242779</td>\n",
              "      <td>-1.027070</td>\n",
              "      <td>0.498653</td>\n",
              "      <td>-0.176191</td>\n",
              "      <td>0.749579</td>\n",
              "      <td>-0.077465</td>\n",
              "      <td>0.006264</td>\n",
              "      <td>0.397067</td>\n",
              "      <td>0.128048</td>\n",
              "      <td>-0.204797</td>\n",
              "      <td>-0.268109</td>\n",
              "      <td>-0.523666</td>\n",
              "      <td>0.000167</td>\n",
              "      <td>0.981689</td>\n",
              "      <td>0.549145</td>\n",
              "      <td>-0.191106</td>\n",
              "      <td>0.032900</td>\n",
              "      <td>0.014051</td>\n",
              "      <td>12.00</td>\n",
              "      <td>0</td>\n",
              "    </tr>\n",
              "    <tr>\n",
              "      <th>227448</th>\n",
              "      <td>57460.0</td>\n",
              "      <td>-0.575467</td>\n",
              "      <td>1.044903</td>\n",
              "      <td>2.147306</td>\n",
              "      <td>2.215084</td>\n",
              "      <td>0.425032</td>\n",
              "      <td>0.295102</td>\n",
              "      <td>1.045581</td>\n",
              "      <td>-0.157270</td>\n",
              "      <td>-1.123999</td>\n",
              "      <td>0.378426</td>\n",
              "      <td>-1.220689</td>\n",
              "      <td>-0.697701</td>\n",
              "      <td>-0.235623</td>\n",
              "      <td>-0.176623</td>\n",
              "      <td>0.064198</td>\n",
              "      <td>0.085039</td>\n",
              "      <td>-0.329839</td>\n",
              "      <td>-0.153230</td>\n",
              "      <td>0.368793</td>\n",
              "      <td>0.220503</td>\n",
              "      <td>-0.222869</td>\n",
              "      <td>-0.558581</td>\n",
              "      <td>-0.190851</td>\n",
              "      <td>-0.151188</td>\n",
              "      <td>0.292838</td>\n",
              "      <td>-0.013449</td>\n",
              "      <td>-0.128500</td>\n",
              "      <td>-0.145135</td>\n",
              "      <td>56.84</td>\n",
              "      <td>0</td>\n",
              "    </tr>\n",
              "    <tr>\n",
              "      <th>227449</th>\n",
              "      <td>161736.0</td>\n",
              "      <td>2.099662</td>\n",
              "      <td>0.104900</td>\n",
              "      <td>-2.137699</td>\n",
              "      <td>0.046846</td>\n",
              "      <td>0.522006</td>\n",
              "      <td>-1.731195</td>\n",
              "      <td>0.883656</td>\n",
              "      <td>-0.652647</td>\n",
              "      <td>0.125784</td>\n",
              "      <td>-0.004670</td>\n",
              "      <td>-0.658097</td>\n",
              "      <td>0.510270</td>\n",
              "      <td>0.489427</td>\n",
              "      <td>0.700005</td>\n",
              "      <td>0.322763</td>\n",
              "      <td>-0.626962</td>\n",
              "      <td>-0.335473</td>\n",
              "      <td>-0.566749</td>\n",
              "      <td>0.148588</td>\n",
              "      <td>-0.158691</td>\n",
              "      <td>0.158573</td>\n",
              "      <td>0.585864</td>\n",
              "      <td>-0.086699</td>\n",
              "      <td>-0.034359</td>\n",
              "      <td>0.469153</td>\n",
              "      <td>0.243214</td>\n",
              "      <td>-0.086744</td>\n",
              "      <td>-0.075146</td>\n",
              "      <td>26.20</td>\n",
              "      <td>0</td>\n",
              "    </tr>\n",
              "    <tr>\n",
              "      <th>227450</th>\n",
              "      <td>32841.0</td>\n",
              "      <td>0.906164</td>\n",
              "      <td>-0.594769</td>\n",
              "      <td>0.244248</td>\n",
              "      <td>0.309372</td>\n",
              "      <td>-0.633862</td>\n",
              "      <td>-0.408258</td>\n",
              "      <td>0.079743</td>\n",
              "      <td>-0.074880</td>\n",
              "      <td>0.417500</td>\n",
              "      <td>-0.347640</td>\n",
              "      <td>-0.257590</td>\n",
              "      <td>0.383516</td>\n",
              "      <td>-0.135705</td>\n",
              "      <td>0.117500</td>\n",
              "      <td>0.581213</td>\n",
              "      <td>-0.300243</td>\n",
              "      <td>0.249319</td>\n",
              "      <td>-1.186525</td>\n",
              "      <td>-0.108152</td>\n",
              "      <td>0.214292</td>\n",
              "      <td>-0.136985</td>\n",
              "      <td>-0.639937</td>\n",
              "      <td>-0.031261</td>\n",
              "      <td>0.143955</td>\n",
              "      <td>0.095383</td>\n",
              "      <td>0.865909</td>\n",
              "      <td>-0.090746</td>\n",
              "      <td>0.030029</td>\n",
              "      <td>171.73</td>\n",
              "      <td>0</td>\n",
              "    </tr>\n",
              "    <tr>\n",
              "      <th>227451</th>\n",
              "      <td>122986.0</td>\n",
              "      <td>2.047849</td>\n",
              "      <td>-0.427801</td>\n",
              "      <td>-0.659842</td>\n",
              "      <td>0.287565</td>\n",
              "      <td>-0.313177</td>\n",
              "      <td>-0.024828</td>\n",
              "      <td>-0.613864</td>\n",
              "      <td>-0.003474</td>\n",
              "      <td>1.527590</td>\n",
              "      <td>-0.166434</td>\n",
              "      <td>-1.902237</td>\n",
              "      <td>0.189201</td>\n",
              "      <td>0.383373</td>\n",
              "      <td>-0.277475</td>\n",
              "      <td>0.540241</td>\n",
              "      <td>0.371578</td>\n",
              "      <td>-0.879892</td>\n",
              "      <td>0.524039</td>\n",
              "      <td>0.157091</td>\n",
              "      <td>-0.182543</td>\n",
              "      <td>0.126714</td>\n",
              "      <td>0.634560</td>\n",
              "      <td>-0.010334</td>\n",
              "      <td>-0.975938</td>\n",
              "      <td>0.044531</td>\n",
              "      <td>-0.151049</td>\n",
              "      <td>0.040962</td>\n",
              "      <td>-0.046594</td>\n",
              "      <td>9.99</td>\n",
              "      <td>0</td>\n",
              "    </tr>\n",
              "  </tbody>\n",
              "</table>\n",
              "<p>227452 rows × 31 columns</p>\n",
              "</div>"
            ],
            "text/plain": [
              "            Time        V1        V2  ...       V28  Amount  Class\n",
              "0          406.0 -2.312227  1.951992  ... -0.143276    0.00      1\n",
              "1          472.0 -3.043541 -3.157307  ...  0.035764  529.00      1\n",
              "2         4462.0 -2.303350  1.759247  ... -0.153029  239.93      1\n",
              "3         6986.0 -4.397974  1.358367  ...  0.849573   59.00      1\n",
              "4         7519.0  1.234235  3.019740  ...  0.146793    1.00      1\n",
              "...          ...       ...       ...  ...       ...     ...    ...\n",
              "227447   47400.0  1.578237 -1.204062  ...  0.014051   12.00      0\n",
              "227448   57460.0 -0.575467  1.044903  ... -0.145135   56.84      0\n",
              "227449  161736.0  2.099662  0.104900  ... -0.075146   26.20      0\n",
              "227450   32841.0  0.906164 -0.594769  ...  0.030029  171.73      0\n",
              "227451  122986.0  2.047849 -0.427801  ... -0.046594    9.99      0\n",
              "\n",
              "[227452 rows x 31 columns]"
            ]
          },
          "metadata": {
            "tags": []
          },
          "execution_count": 38
        }
      ]
    },
    {
      "cell_type": "code",
      "metadata": {
        "colab": {
          "base_uri": "https://localhost:8080/"
        },
        "id": "H7Xhwx-_lr_v",
        "outputId": "3fc68dfe-205e-42d4-fcdc-ce8ad9ada5fe"
      },
      "source": [
        "# observasi dataset\n",
        "dataset_1['Class'].value_counts()"
      ],
      "execution_count": null,
      "outputs": [
        {
          "output_type": "execute_result",
          "data": {
            "text/plain": [
              "1    113726\n",
              "0    113726\n",
              "Name: Class, dtype: int64"
            ]
          },
          "metadata": {
            "tags": []
          },
          "execution_count": 39
        }
      ]
    },
    {
      "cell_type": "code",
      "metadata": {
        "colab": {
          "base_uri": "https://localhost:8080/"
        },
        "id": "USnQCZ3yl0hA",
        "outputId": "f98e0fd6-ab6d-4ccc-d80d-c90aad4adfab"
      },
      "source": [
        "x = dataset_1.drop(labels=['Class'], axis=1)\n",
        "y = dataset_1['Class']\n",
        "x.shape, y.shape"
      ],
      "execution_count": null,
      "outputs": [
        {
          "output_type": "execute_result",
          "data": {
            "text/plain": [
              "((227452, 30), (227452,))"
            ]
          },
          "metadata": {
            "tags": []
          },
          "execution_count": 40
        }
      ]
    },
    {
      "cell_type": "code",
      "metadata": {
        "id": "EVwaoW8Cl6ol"
      },
      "source": [
        "# bagi data menjadi data test dan data training\n",
        "from sklearn.model_selection import train_test_split\n",
        "x_train, x_test, y_train, y_test = train_test_split(x,y,test_size =0.2, random_state = 0)"
      ],
      "execution_count": null,
      "outputs": []
    },
    {
      "cell_type": "code",
      "metadata": {
        "colab": {
          "base_uri": "https://localhost:8080/"
        },
        "id": "fQknDJChl9NY",
        "outputId": "def0ea43-5e03-4d4a-dc7d-0c7ffc477d54"
      },
      "source": [
        "x_train.shape, x_test.shape"
      ],
      "execution_count": null,
      "outputs": [
        {
          "output_type": "execute_result",
          "data": {
            "text/plain": [
              "((181961, 30), (45491, 30))"
            ]
          },
          "metadata": {
            "tags": []
          },
          "execution_count": 42
        }
      ]
    },
    {
      "cell_type": "code",
      "metadata": {
        "colab": {
          "base_uri": "https://localhost:8080/"
        },
        "id": "86ep3tS9l_Q_",
        "outputId": "1781733c-f1c3-454c-d90f-fc04f1cd6cb8"
      },
      "source": [
        "# feature scaling\n",
        "from sklearn.preprocessing import StandardScaler\n",
        "sc = StandardScaler()\n",
        "x_train = sc.fit_transform(x_train)\n",
        "x_test = sc.transform(x_test)\n",
        "x_train"
      ],
      "execution_count": null,
      "outputs": [
        {
          "output_type": "execute_result",
          "data": {
            "text/plain": [
              "array([[ 0.79072693,  0.40542483,  0.19343486, ...,  0.04766778,\n",
              "         0.60094369, -0.39805107],\n",
              "       [-0.0216961 ,  0.77921054, -0.69128834, ..., -0.04870215,\n",
              "        -0.12962424,  0.01138311],\n",
              "       [ 1.11804353, -0.03864725, -0.89533242, ..., -0.22011293,\n",
              "         0.27156305,  4.25154308],\n",
              "       ...,\n",
              "       [ 1.68007648,  0.13250508, -0.1868388 , ..., -0.88078706,\n",
              "        -0.58487685, -0.29097573],\n",
              "       [ 0.87089654,  0.27537467,  0.24330813, ...,  0.29499713,\n",
              "        -0.57218197,  0.45793224],\n",
              "       [-0.41077826,  0.6865997 , -0.84740647, ...,  0.01097396,\n",
              "        -0.05115797, -0.42951898]])"
            ]
          },
          "metadata": {
            "tags": []
          },
          "execution_count": 43
        }
      ]
    },
    {
      "cell_type": "code",
      "metadata": {
        "id": "vWebR72gmBve"
      },
      "source": [
        "y_train = y_train.to_numpy()\n",
        "y_test = y_test.to_numpy()"
      ],
      "execution_count": null,
      "outputs": []
    },
    {
      "cell_type": "code",
      "metadata": {
        "colab": {
          "base_uri": "https://localhost:8080/"
        },
        "id": "MFvXI11omFYi",
        "outputId": "a0313919-ecd7-46c9-b103-3e04a25fbbaf"
      },
      "source": [
        "x_train.shape, x_test.shape"
      ],
      "execution_count": null,
      "outputs": [
        {
          "output_type": "execute_result",
          "data": {
            "text/plain": [
              "((181961, 30), (45491, 30))"
            ]
          },
          "metadata": {
            "tags": []
          },
          "execution_count": 45
        }
      ]
    },
    {
      "cell_type": "code",
      "metadata": {
        "id": "70v501htmHit"
      },
      "source": [
        "# reshape the dataset\n",
        "x_train = x_train.reshape(181961, 30, 1)\n",
        "x_test = x_test.reshape(45491, 30, 1)"
      ],
      "execution_count": null,
      "outputs": []
    },
    {
      "cell_type": "code",
      "metadata": {
        "colab": {
          "base_uri": "https://localhost:8080/"
        },
        "id": "HzogVFvWmN_r",
        "outputId": "9dc31560-bec7-45f5-bbeb-6975e14cbedf"
      },
      "source": [
        "x_train.shape, x_test.shape"
      ],
      "execution_count": null,
      "outputs": [
        {
          "output_type": "execute_result",
          "data": {
            "text/plain": [
              "((181961, 30, 1), (45491, 30, 1))"
            ]
          },
          "metadata": {
            "tags": []
          },
          "execution_count": 47
        }
      ]
    },
    {
      "cell_type": "code",
      "metadata": {
        "id": "dLgjV1OHmQTK"
      },
      "source": [
        "# defining an object\n",
        "model = tf.keras.models.Sequential()"
      ],
      "execution_count": null,
      "outputs": []
    },
    {
      "cell_type": "code",
      "metadata": {
        "id": "L8sIvEPhmeiQ"
      },
      "source": [
        "# first CNN layer\n",
        "model.add(tf.keras.layers.Conv1D(filters=32, kernel_size= 2, padding= 'same', activation='relu', input_shape= (30,1)))\n",
        "# Membuat layer convolution dengan filters 32 (jumlah keluaran), kernel size = 2, padding = same (agar padding tidak menghilangkan data yang ada), serta inputnya atau\n",
        "# data masuknya sesuai dengan jumlah data yaitu (30,1), dan juga fungsi aktifasi yang digunakan adalah relu\n",
        "\n",
        "# batch normalization\n",
        "model.add(tf.keras.layers.BatchNormalization())\n",
        "# untuk transformasi yang mempertahankan keluaran rata-rata mendekati 0 dan simpangan baku keluaran mendekati 1.\n",
        "\n",
        "# maxpool layer\n",
        "model.add(tf.keras.layers.MaxPool1D(pool_size=2))\n",
        "# Membuat layer maxpooling dengan size poolingnya adalah 2\n",
        "\n",
        "# dropout layer\n",
        "model.add(tf.keras.layers.Dropout(0.2))\n",
        "#Lapisan Dropout secara acak menetapkan unit masukan ke 0 dengan frekuensi kecepatan di setiap langkah selama waktu pelatihan, yang membantu mencegah overfitting.\n",
        "# dan 0.2 adalah dengan mengabaikan 20% neuron yang ada"
      ],
      "execution_count": null,
      "outputs": []
    },
    {
      "cell_type": "code",
      "metadata": {
        "id": "X-g7fEtvmhHm"
      },
      "source": [
        "# second CNN layer\n",
        "model.add(tf.keras.layers.Conv1D(filters=64, kernel_size= 2, padding= 'same', activation='relu'))\n",
        "# Membuat layer convolution baru sesuai dengan yang awal, hanya saja pada lapisan kedua diset filters(jumlah keluaran) sebesar 60\n",
        "# dan juga tidak memerlukan data input, karena data yang diambil dari data setelah layer CNN awal\n",
        "\n",
        "# batch normalization\n",
        "model.add(tf.keras.layers.BatchNormalization())\n",
        "\n",
        "# maxpool layer\n",
        "model.add(tf.keras.layers.MaxPool1D(pool_size=2))\n",
        "\n",
        "# dropout layer\n",
        "model.add(tf.keras.layers.Dropout(0.3))\n",
        "#sama pada layer CNN pertama hanya saja mengabaikan 30% neuron yang ada"
      ],
      "execution_count": null,
      "outputs": []
    },
    {
      "cell_type": "code",
      "metadata": {
        "id": "apL_wIg1mj2Z"
      },
      "source": [
        "# flatten layer\n",
        "model.add(tf.keras.layers.Flatten())"
      ],
      "execution_count": null,
      "outputs": []
    },
    {
      "cell_type": "code",
      "metadata": {
        "id": "SWYMj1Raml8t"
      },
      "source": [
        "# first dense layer\n",
        "model.add(tf.keras.layers.Dense(units=64, activation='relu'))\n",
        "# Dibuat layer fullyconnectednya dengan 64 sebagai dimensi keluarannya dan digunakan fungsi aktifasinya adalah relu\n",
        "\n",
        "# dropout layer\n",
        "model.add(tf.keras.layers.Dropout(0.3))\n",
        "# sama pada sebelumnya dengan mengabaikan 30% neurons"
      ],
      "execution_count": null,
      "outputs": []
    },
    {
      "cell_type": "code",
      "metadata": {
        "id": "J6Bh1O0nmoN1"
      },
      "source": [
        "# output layer\n",
        "model.add(tf.keras.layers.Dense(units=1, activation='sigmoid'))\n",
        "# terakhir dibuat layer outputnya dengan dimensi keluarannya adalah 1 dan fungsi aktifasinya adalah sigmoid "
      ],
      "execution_count": null,
      "outputs": []
    },
    {
      "cell_type": "code",
      "metadata": {
        "colab": {
          "base_uri": "https://localhost:8080/"
        },
        "id": "RvzUDAXmmq9q",
        "outputId": "685e0166-9e03-41a8-c20e-d035bdc3921d"
      },
      "source": [
        "model.summary()"
      ],
      "execution_count": null,
      "outputs": [
        {
          "output_type": "stream",
          "text": [
            "Model: \"sequential\"\n",
            "_________________________________________________________________\n",
            "Layer (type)                 Output Shape              Param #   \n",
            "=================================================================\n",
            "conv1d (Conv1D)              (None, 30, 32)            96        \n",
            "_________________________________________________________________\n",
            "batch_normalization (BatchNo (None, 30, 32)            128       \n",
            "_________________________________________________________________\n",
            "max_pooling1d (MaxPooling1D) (None, 15, 32)            0         \n",
            "_________________________________________________________________\n",
            "dropout (Dropout)            (None, 15, 32)            0         \n",
            "_________________________________________________________________\n",
            "conv1d_1 (Conv1D)            (None, 15, 64)            4160      \n",
            "_________________________________________________________________\n",
            "batch_normalization_1 (Batch (None, 15, 64)            256       \n",
            "_________________________________________________________________\n",
            "max_pooling1d_1 (MaxPooling1 (None, 7, 64)             0         \n",
            "_________________________________________________________________\n",
            "dropout_1 (Dropout)          (None, 7, 64)             0         \n",
            "_________________________________________________________________\n",
            "flatten (Flatten)            (None, 448)               0         \n",
            "_________________________________________________________________\n",
            "dense (Dense)                (None, 64)                28736     \n",
            "_________________________________________________________________\n",
            "dropout_2 (Dropout)          (None, 64)                0         \n",
            "_________________________________________________________________\n",
            "dense_1 (Dense)              (None, 1)                 65        \n",
            "=================================================================\n",
            "Total params: 33,441\n",
            "Trainable params: 33,249\n",
            "Non-trainable params: 192\n",
            "_________________________________________________________________\n"
          ],
          "name": "stdout"
        }
      ]
    },
    {
      "cell_type": "code",
      "metadata": {
        "id": "UQmYvVjfmsyj"
      },
      "source": [
        "opt = tf.keras.optimizers.Adam(learning_rate=0.0001)\n",
        "#dibuat fungsi untuk optimasi yaitu dengan menggunakan Adam dan nilai learning rateny adalah 0.0001"
      ],
      "execution_count": null,
      "outputs": []
    },
    {
      "cell_type": "code",
      "metadata": {
        "id": "zQUa3OPFmwaJ"
      },
      "source": [
        "model.compile(optimizer=opt, loss='binary_crossentropy', metrics=['accuracy'])\n",
        "#menyusun model dengan nilai optimasi sesuai yag didefinisikan pada opt\n",
        "#lalu loss nya adalah binary_crossentropy karena yang ingin dicari adalah probabilistik dari 0 atau 1\n",
        "#terakhir metriks yang ingin diketahui berdasarkan akurasi dari model yang telah dibuat "
      ],
      "execution_count": null,
      "outputs": []
    },
    {
      "cell_type": "code",
      "metadata": {
        "colab": {
          "base_uri": "https://localhost:8080/"
        },
        "id": "bEblftRomypF",
        "outputId": "ea74cbe6-293d-4179-a463-3e82690ca6c3"
      },
      "source": [
        "history = model.fit(x_train, y_train, epochs= 25, validation_data=(x_test, y_test))"
      ],
      "execution_count": null,
      "outputs": [
        {
          "output_type": "stream",
          "text": [
            "Epoch 1/25\n",
            "5687/5687 [==============================] - 31s 5ms/step - loss: 0.1895 - accuracy: 0.9264 - val_loss: 0.0544 - val_accuracy: 0.9805\n",
            "Epoch 2/25\n",
            "5687/5687 [==============================] - 30s 5ms/step - loss: 0.0721 - accuracy: 0.9751 - val_loss: 0.0383 - val_accuracy: 0.9874\n",
            "Epoch 3/25\n",
            "5687/5687 [==============================] - 30s 5ms/step - loss: 0.0594 - accuracy: 0.9792 - val_loss: 0.0309 - val_accuracy: 0.9892\n",
            "Epoch 4/25\n",
            "5687/5687 [==============================] - 30s 5ms/step - loss: 0.0480 - accuracy: 0.9832 - val_loss: 0.0249 - val_accuracy: 0.9920\n",
            "Epoch 5/25\n",
            "5687/5687 [==============================] - 30s 5ms/step - loss: 0.0436 - accuracy: 0.9848 - val_loss: 0.0203 - val_accuracy: 0.9936\n",
            "Epoch 6/25\n",
            "5687/5687 [==============================] - 30s 5ms/step - loss: 0.0395 - accuracy: 0.9863 - val_loss: 0.0182 - val_accuracy: 0.9952\n",
            "Epoch 7/25\n",
            "5687/5687 [==============================] - 30s 5ms/step - loss: 0.0349 - accuracy: 0.9878 - val_loss: 0.0160 - val_accuracy: 0.9957\n",
            "Epoch 8/25\n",
            "5687/5687 [==============================] - 30s 5ms/step - loss: 0.0314 - accuracy: 0.9892 - val_loss: 0.0137 - val_accuracy: 0.9963\n",
            "Epoch 9/25\n",
            "5687/5687 [==============================] - 30s 5ms/step - loss: 0.0292 - accuracy: 0.9904 - val_loss: 0.0128 - val_accuracy: 0.9968\n",
            "Epoch 10/25\n",
            "5687/5687 [==============================] - 30s 5ms/step - loss: 0.0280 - accuracy: 0.9907 - val_loss: 0.0115 - val_accuracy: 0.9969\n",
            "Epoch 11/25\n",
            "5687/5687 [==============================] - 30s 5ms/step - loss: 0.0255 - accuracy: 0.9914 - val_loss: 0.0109 - val_accuracy: 0.9971\n",
            "Epoch 12/25\n",
            "5687/5687 [==============================] - 30s 5ms/step - loss: 0.0229 - accuracy: 0.9924 - val_loss: 0.0105 - val_accuracy: 0.9971\n",
            "Epoch 13/25\n",
            "5687/5687 [==============================] - 30s 5ms/step - loss: 0.0230 - accuracy: 0.9925 - val_loss: 0.0102 - val_accuracy: 0.9972\n",
            "Epoch 14/25\n",
            "5687/5687 [==============================] - 30s 5ms/step - loss: 0.0223 - accuracy: 0.9924 - val_loss: 0.0091 - val_accuracy: 0.9977\n",
            "Epoch 15/25\n",
            "5687/5687 [==============================] - 30s 5ms/step - loss: 0.0217 - accuracy: 0.9927 - val_loss: 0.0086 - val_accuracy: 0.9976\n",
            "Epoch 16/25\n",
            "5687/5687 [==============================] - 31s 5ms/step - loss: 0.0204 - accuracy: 0.9935 - val_loss: 0.0091 - val_accuracy: 0.9972\n",
            "Epoch 17/25\n",
            "5687/5687 [==============================] - 30s 5ms/step - loss: 0.0200 - accuracy: 0.9938 - val_loss: 0.0082 - val_accuracy: 0.9978\n",
            "Epoch 18/25\n",
            "5687/5687 [==============================] - 30s 5ms/step - loss: 0.0180 - accuracy: 0.9937 - val_loss: 0.0076 - val_accuracy: 0.9979\n",
            "Epoch 19/25\n",
            "5687/5687 [==============================] - 30s 5ms/step - loss: 0.0185 - accuracy: 0.9939 - val_loss: 0.0076 - val_accuracy: 0.9979\n",
            "Epoch 20/25\n",
            "5687/5687 [==============================] - 30s 5ms/step - loss: 0.0180 - accuracy: 0.9941 - val_loss: 0.0075 - val_accuracy: 0.9980\n",
            "Epoch 21/25\n",
            "5687/5687 [==============================] - 30s 5ms/step - loss: 0.0175 - accuracy: 0.9940 - val_loss: 0.0070 - val_accuracy: 0.9983\n",
            "Epoch 22/25\n",
            "5687/5687 [==============================] - 30s 5ms/step - loss: 0.0175 - accuracy: 0.9942 - val_loss: 0.0073 - val_accuracy: 0.9980\n",
            "Epoch 23/25\n",
            "5687/5687 [==============================] - 30s 5ms/step - loss: 0.0169 - accuracy: 0.9947 - val_loss: 0.0068 - val_accuracy: 0.9982\n",
            "Epoch 24/25\n",
            "5687/5687 [==============================] - 30s 5ms/step - loss: 0.0157 - accuracy: 0.9949 - val_loss: 0.0073 - val_accuracy: 0.9981\n",
            "Epoch 25/25\n",
            "5687/5687 [==============================] - 30s 5ms/step - loss: 0.0168 - accuracy: 0.9945 - val_loss: 0.0068 - val_accuracy: 0.9982\n"
          ],
          "name": "stdout"
        }
      ]
    },
    {
      "cell_type": "code",
      "metadata": {
        "colab": {
          "base_uri": "https://localhost:8080/"
        },
        "id": "GnNy6U0sm19V",
        "outputId": "267b6af8-9be2-4de0-c6c8-7bee5fd3c76a"
      },
      "source": [
        "# model predictions\n",
        "y_pred = model.predict_classes(x_test)"
      ],
      "execution_count": null,
      "outputs": [
        {
          "output_type": "stream",
          "text": [
            "/usr/local/lib/python3.7/dist-packages/tensorflow/python/keras/engine/sequential.py:450: UserWarning: `model.predict_classes()` is deprecated and will be removed after 2021-01-01. Please use instead:* `np.argmax(model.predict(x), axis=-1)`,   if your model does multi-class classification   (e.g. if it uses a `softmax` last-layer activation).* `(model.predict(x) > 0.5).astype(\"int32\")`,   if your model does binary classification   (e.g. if it uses a `sigmoid` last-layer activation).\n",
            "  warnings.warn('`model.predict_classes()` is deprecated and '\n"
          ],
          "name": "stderr"
        }
      ]
    },
    {
      "cell_type": "code",
      "metadata": {
        "colab": {
          "base_uri": "https://localhost:8080/"
        },
        "id": "THCEGI3Mm8T0",
        "outputId": "e141202d-3b55-4cf8-a6c1-d94aa70291a8"
      },
      "source": [
        "print(y_pred[5]), print(y_test[5])"
      ],
      "execution_count": null,
      "outputs": [
        {
          "output_type": "stream",
          "text": [
            "[1]\n",
            "1\n"
          ],
          "name": "stdout"
        },
        {
          "output_type": "execute_result",
          "data": {
            "text/plain": [
              "(None, None)"
            ]
          },
          "metadata": {
            "tags": []
          },
          "execution_count": 59
        }
      ]
    },
    {
      "cell_type": "code",
      "metadata": {
        "colab": {
          "base_uri": "https://localhost:8080/"
        },
        "id": "y1B24mpUm_Gd",
        "outputId": "29898877-86db-4093-fbae-bcf77e98dd65"
      },
      "source": [
        "# confusion matrix\n",
        "from sklearn.metrics import confusion_matrix, accuracy_score\n",
        "cm = confusion_matrix(y_test, y_pred)\n",
        "print(cm)"
      ],
      "execution_count": null,
      "outputs": [
        {
          "output_type": "stream",
          "text": [
            "[[22604    78]\n",
            " [    6 22803]]\n"
          ],
          "name": "stdout"
        }
      ]
    },
    {
      "cell_type": "code",
      "metadata": {
        "colab": {
          "base_uri": "https://localhost:8080/"
        },
        "id": "flDzwY8TnCVs",
        "outputId": "c51aff6a-982e-4113-a5a3-3b0589f028a0"
      },
      "source": [
        "acc_cm = accuracy_score(y_test, y_pred)\n",
        "print(acc_cm)"
      ],
      "execution_count": null,
      "outputs": [
        {
          "output_type": "stream",
          "text": [
            "0.9981534809083116\n"
          ],
          "name": "stdout"
        }
      ]
    },
    {
      "cell_type": "code",
      "metadata": {
        "id": "mX89k-wBnFVy"
      },
      "source": [
        "def learning_curve(history,epoch):\n",
        "\n",
        "  #training vs validation accuracy\n",
        "  epoch_range = range(1,epoch+1)\n",
        "  plt.plot(epoch_range, history.history['accuracy'])\n",
        "  plt.plot(epoch_range, history.history['val_accuracy'])\n",
        "  plt.title('Model Accuracy')\n",
        "  plt.ylabel('Accuracy')\n",
        "  plt.xlabel('Epoch')\n",
        "  plt.legend(['Train', 'val'], loc= 'upper left')\n",
        "  plt.show()\n",
        "\n",
        "  #training vs validation loss\n",
        "  epoch_range = range(1,epoch+1)\n",
        "  plt.plot(epoch_range, history.history['loss'])\n",
        "  plt.plot(epoch_range, history.history['val_loss'])\n",
        "  plt.title('Model Los')\n",
        "  plt.ylabel('Accuracy')\n",
        "  plt.xlabel('Epoch')\n",
        "  plt.legend(['Train', 'val'], loc= 'upper left')\n",
        "  plt.show()"
      ],
      "execution_count": null,
      "outputs": []
    },
    {
      "cell_type": "code",
      "metadata": {
        "colab": {
          "base_uri": "https://localhost:8080/",
          "height": 683
        },
        "id": "AA9GHNAInKlE",
        "outputId": "d6275f11-8be0-4b0b-8b07-8d3ecda1a12f"
      },
      "source": [
        "learning_curve(history,25)"
      ],
      "execution_count": null,
      "outputs": [
        {
          "output_type": "display_data",
          "data": {
            "image/png": "[encoded data removed]",
            "text/plain": [
              "<Figure size 360x360 with 1 Axes>"
            ]
          },
          "metadata": {
            "tags": [],
            "needs_background": "light"
          }
        },
        {
          "output_type": "display_data",
          "data": {
            "image/png": "[encoded data removed]",
            "text/plain": [
              "<Figure size 360x360 with 1 Axes>"
            ]
          },
          "metadata": {
            "tags": [],
            "needs_background": "light"
          }
        }
      ]
    }
  ]
}